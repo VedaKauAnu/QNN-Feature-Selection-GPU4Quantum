{
  "cells": [
    {
      "cell_type": "markdown",
      "metadata": {
        "id": "ADdI9rAqRpED"
      },
      "source": [
        "# Adaptive QNN with 10 Qubits\n",
        "## Feature Selection + Encoding Optimization\n",
        "\n",
        "**Experiment Overview:**\n",
        "- Tests adaptive controller with 10 qubits\n",
        "- Compares 4 feature selection methods × 2 encodings = 8 configurations\n",
        "- 30 epochs of training"
      ]
    },
    {
      "cell_type": "code",
      "execution_count": 1,
      "metadata": {
        "id": "Q8HEaqNZRpEF",
        "outputId": "dba703ce-fb1e-42d0-e6f7-2a12b3e390ef",
        "colab": {
          "base_uri": "https://localhost:8080/"
        }
      },
      "outputs": [
        {
          "output_type": "stream",
          "name": "stdout",
          "text": [
            "Running on Google Colab\n",
            "Wed Oct 15 19:09:44 2025       \n",
            "+-----------------------------------------------------------------------------------------+\n",
            "| NVIDIA-SMI 550.54.15              Driver Version: 550.54.15      CUDA Version: 12.4     |\n",
            "|-----------------------------------------+------------------------+----------------------+\n",
            "| GPU  Name                 Persistence-M | Bus-Id          Disp.A | Volatile Uncorr. ECC |\n",
            "| Fan  Temp   Perf          Pwr:Usage/Cap |           Memory-Usage | GPU-Util  Compute M. |\n",
            "|                                         |                        |               MIG M. |\n",
            "|=========================================+========================+======================|\n",
            "|   0  NVIDIA A100-SXM4-40GB          Off |   00000000:00:04.0 Off |                    0 |\n",
            "| N/A   31C    P0             44W /  400W |       0MiB /  40960MiB |      0%      Default |\n",
            "|                                         |                        |             Disabled |\n",
            "+-----------------------------------------+------------------------+----------------------+\n",
            "                                                                                         \n",
            "+-----------------------------------------------------------------------------------------+\n",
            "| Processes:                                                                              |\n",
            "|  GPU   GI   CI        PID   Type   Process name                              GPU Memory |\n",
            "|        ID   ID                                                               Usage      |\n",
            "|=========================================================================================|\n",
            "|  No running processes found                                                             |\n",
            "+-----------------------------------------------------------------------------------------+\n",
            "\u001b[2K     \u001b[90m━━━━━━━━━━━━━━━━━━━━━━━━━━━━━━━━━━━━━━━━\u001b[0m \u001b[32m57.1/57.1 kB\u001b[0m \u001b[31m5.6 MB/s\u001b[0m eta \u001b[36m0:00:00\u001b[0m\n",
            "\u001b[2K   \u001b[90m━━━━━━━━━━━━━━━━━━━━━━━━━━━━━━━━━━━━━━━━\u001b[0m \u001b[32m5.3/5.3 MB\u001b[0m \u001b[31m3.6 MB/s\u001b[0m eta \u001b[36m0:00:00\u001b[0m\n",
            "\u001b[2K   \u001b[90m━━━━━━━━━━━━━━━━━━━━━━━━━━━━━━━━━━━━━━━━\u001b[0m \u001b[32m934.3/934.3 kB\u001b[0m \u001b[31m52.7 MB/s\u001b[0m eta \u001b[36m0:00:00\u001b[0m\n",
            "\u001b[2K   \u001b[90m━━━━━━━━━━━━━━━━━━━━━━━━━━━━━━━━━━━━━━━━\u001b[0m \u001b[32m911.3/911.3 kB\u001b[0m \u001b[31m31.2 MB/s\u001b[0m eta \u001b[36m0:00:00\u001b[0m\n",
            "\u001b[2K   \u001b[90m━━━━━━━━━━━━━━━━━━━━━━━━━━━━━━━━━━━━━━━━\u001b[0m \u001b[32m2.5/2.5 MB\u001b[0m \u001b[31m86.1 MB/s\u001b[0m eta \u001b[36m0:00:00\u001b[0m\n",
            "\u001b[2K   \u001b[90m━━━━━━━━━━━━━━━━━━━━━━━━━━━━━━━━━━━━━━━━\u001b[0m \u001b[32m2.2/2.2 MB\u001b[0m \u001b[31m94.0 MB/s\u001b[0m eta \u001b[36m0:00:00\u001b[0m\n",
            "\u001b[2K   \u001b[90m━━━━━━━━━━━━━━━━━━━━━━━━━━━━━━━━━━━━━━━━\u001b[0m \u001b[32m8.6/8.6 MB\u001b[0m \u001b[31m51.4 MB/s\u001b[0m eta \u001b[36m0:00:00\u001b[0m\n",
            "\u001b[2K   \u001b[90m━━━━━━━━━━━━━━━━━━━━━━━━━━━━━━━━━━━━━━━━\u001b[0m \u001b[32m72.3/72.3 MB\u001b[0m \u001b[31m30.7 MB/s\u001b[0m eta \u001b[36m0:00:00\u001b[0m\n",
            "\u001b[2K   \u001b[90m━━━━━━━━━━━━━━━━━━━━━━━━━━━━━━━━━━━━━━━━\u001b[0m \u001b[32m167.9/167.9 kB\u001b[0m \u001b[31m13.4 MB/s\u001b[0m eta \u001b[36m0:00:00\u001b[0m\n",
            "\u001b[?25h\n",
            "✓ Setup complete!\n"
          ]
        }
      ],
      "source": [
        "# Check if running on Colab\n",
        "try:\n",
        "    import google.colab\n",
        "    IN_COLAB = True\n",
        "    print(\"Running on Google Colab\")\n",
        "\n",
        "    # Check GPU\n",
        "    !nvidia-smi\n",
        "\n",
        "    # Install packages\n",
        "    !pip install -q pennylane pennylane-lightning-gpu\n",
        "    !pip install -q scikit-learn matplotlib seaborn tqdm\n",
        "except:\n",
        "    IN_COLAB = False\n",
        "    print(\"Running locally\")\n",
        "\n",
        "print(\"\\n✓ Setup complete!\")"
      ]
    },
    {
      "cell_type": "code",
      "execution_count": 2,
      "metadata": {
        "id": "at5ISn07RpEH",
        "outputId": "eb2e17ba-3f4f-49cb-a166-2b91856edb98",
        "colab": {
          "base_uri": "https://localhost:8080/"
        }
      },
      "outputs": [
        {
          "output_type": "stream",
          "name": "stdout",
          "text": [
            "✓ Imports complete\n"
          ]
        }
      ],
      "source": [
        "import numpy as np\n",
        "import pennylane as qml\n",
        "from sklearn.datasets import load_iris, load_wine, load_breast_cancer\n",
        "from sklearn.model_selection import train_test_split\n",
        "from sklearn.preprocessing import StandardScaler\n",
        "from sklearn.decomposition import PCA\n",
        "from sklearn.feature_selection import mutual_info_classif, SelectKBest, f_classif\n",
        "import matplotlib.pyplot as plt\n",
        "import seaborn as sns\n",
        "from datetime import datetime\n",
        "import time\n",
        "from collections import defaultdict\n",
        "from pathlib import Path\n",
        "import json\n",
        "import warnings\n",
        "warnings.filterwarnings('ignore')\n",
        "\n",
        "# Set style\n",
        "sns.set_style('whitegrid')\n",
        "plt.rcParams['figure.dpi'] = 100\n",
        "\n",
        "print(\"✓ Imports complete\")"
      ]
    },
    {
      "cell_type": "markdown",
      "metadata": {
        "id": "JIwBtMLeRpEI"
      },
      "source": [
        "## Configuration"
      ]
    },
    {
      "cell_type": "code",
      "execution_count": 3,
      "metadata": {
        "id": "RRKjUISwRpEI",
        "outputId": "1ecb58e1-81d7-4bb0-df98-f551e29ccaf6",
        "colab": {
          "base_uri": "https://localhost:8080/"
        }
      },
      "outputs": [
        {
          "output_type": "stream",
          "name": "stdout",
          "text": [
            "✓ GPU acceleration available\n",
            "\n",
            "Configuration:\n",
            "  Qubits: 10\n",
            "  Layers: 2\n",
            "  Epochs: 30\n",
            "  Strategy: ucb\n",
            "  Dataset: wine\n",
            "  Device: lightning.gpu\n"
          ]
        }
      ],
      "source": [
        "class Config:\n",
        "    \"\"\"Experiment configuration\"\"\"\n",
        "    N_QUBITS = 10\n",
        "    N_LAYERS = 2\n",
        "    LEARNING_RATE = 0.01\n",
        "    N_EPOCHS = 30\n",
        "    BATCH_SIZE = 16\n",
        "\n",
        "    # Adaptive strategy\n",
        "    STRATEGY = 'ucb'  # Options: 'ucb', 'epsilon_greedy', 'round_robin'\n",
        "    UCB_C = 2.0\n",
        "    EPSILON = 0.2\n",
        "\n",
        "    # Dataset\n",
        "    DATASET = 'wine'  # Options: 'iris', 'wine', 'breast_cancer'\n",
        "    TEST_SIZE = 0.3\n",
        "    RANDOM_STATE = 42\n",
        "\n",
        "    # Device - try GPU first\n",
        "    try:\n",
        "        test_dev = qml.device('lightning.gpu', wires=2)\n",
        "        DEVICE_NAME = 'lightning.gpu'\n",
        "        print(\"✓ GPU acceleration available\")\n",
        "    except:\n",
        "        DEVICE_NAME = 'default.qubit'\n",
        "        print(\"Using CPU (GPU not available)\")\n",
        "\n",
        "    # Output\n",
        "    VERBOSE = True\n",
        "    PLOT_RESULTS = True\n",
        "    SAVE_RESULTS = True\n",
        "    OUTPUT_DIR = Path('results/10_qubits')\n",
        "\n",
        "config = Config()\n",
        "config.OUTPUT_DIR.mkdir(parents=True, exist_ok=True)\n",
        "\n",
        "print(f\"\\nConfiguration:\")\n",
        "print(f\"  Qubits: {config.N_QUBITS}\")\n",
        "print(f\"  Layers: {config.N_LAYERS}\")\n",
        "print(f\"  Epochs: {config.N_EPOCHS}\")\n",
        "print(f\"  Strategy: {config.STRATEGY}\")\n",
        "print(f\"  Dataset: {config.DATASET}\")\n",
        "print(f\"  Device: {config.DEVICE_NAME}\")"
      ]
    },
    {
      "cell_type": "markdown",
      "metadata": {
        "id": "kcksmURLRpEJ"
      },
      "source": [
        "## Data Loading"
      ]
    },
    {
      "cell_type": "code",
      "execution_count": 4,
      "metadata": {
        "id": "PYNaJ33WRpEK",
        "outputId": "dc221e93-c69e-4b5b-b895-244e3dcf480a",
        "colab": {
          "base_uri": "https://localhost:8080/"
        }
      },
      "outputs": [
        {
          "output_type": "stream",
          "name": "stdout",
          "text": [
            "✓ DataLoader defined\n"
          ]
        }
      ],
      "source": [
        "class DataLoader:\n",
        "    \"\"\"Load and preprocess datasets\"\"\"\n",
        "\n",
        "    @staticmethod\n",
        "    def load_dataset(name='wine'):\n",
        "        \"\"\"Load specified dataset\"\"\"\n",
        "        datasets = {\n",
        "            'iris': load_iris,\n",
        "            'wine': load_wine,\n",
        "            'breast_cancer': load_breast_cancer\n",
        "        }\n",
        "\n",
        "        if name not in datasets:\n",
        "            raise ValueError(f\"Dataset {name} not recognized\")\n",
        "\n",
        "        data = datasets[name]()\n",
        "        X, y = data.data, data.target\n",
        "\n",
        "        # Binary classification (first 2 classes)\n",
        "        mask = y < 2\n",
        "        X, y = X[mask], y[mask]\n",
        "\n",
        "        return X, y, data.feature_names\n",
        "\n",
        "    @staticmethod\n",
        "    def preprocess(X_train, X_test, y_train, y_test):\n",
        "        \"\"\"Standardize features\"\"\"\n",
        "        scaler = StandardScaler()\n",
        "        X_train = scaler.fit_transform(X_train)\n",
        "        X_test = scaler.transform(X_test)\n",
        "        return X_train, X_test, y_train, y_test\n",
        "\n",
        "print(\"✓ DataLoader defined\")"
      ]
    },
    {
      "cell_type": "markdown",
      "metadata": {
        "id": "HkVDfSv-RpEL"
      },
      "source": [
        "## Feature Selection Methods"
      ]
    },
    {
      "cell_type": "code",
      "execution_count": 5,
      "metadata": {
        "id": "n_-AuuyKRpEL",
        "outputId": "1f0794f1-cc04-4388-fcb5-0529e63f4fb5",
        "colab": {
          "base_uri": "https://localhost:8080/"
        }
      },
      "outputs": [
        {
          "output_type": "stream",
          "name": "stdout",
          "text": [
            "✓ FeatureSelector defined\n"
          ]
        }
      ],
      "source": [
        "class FeatureSelector:\n",
        "    \"\"\"Feature selection methods\"\"\"\n",
        "\n",
        "    @staticmethod\n",
        "    def pca(X_train, X_test, n_components):\n",
        "        \"\"\"PCA dimensionality reduction\"\"\"\n",
        "        pca = PCA(n_components=n_components)\n",
        "        X_train_red = pca.fit_transform(X_train)\n",
        "        X_test_red = pca.transform(X_test)\n",
        "        return X_train_red, X_test_red\n",
        "\n",
        "    @staticmethod\n",
        "    def correlation(X_train, X_test, y_train, n_features):\n",
        "        \"\"\"Select features by correlation with target\"\"\"\n",
        "        correlations = np.array([np.corrcoef(X_train[:, i], y_train)[0, 1]\n",
        "                                for i in range(X_train.shape[1])])\n",
        "        top_indices = np.argsort(np.abs(correlations))[-n_features:]\n",
        "        return X_train[:, top_indices], X_test[:, top_indices]\n",
        "\n",
        "    @staticmethod\n",
        "    def mutual_info(X_train, X_test, y_train, n_features):\n",
        "        \"\"\"Select features by mutual information\"\"\"\n",
        "        mi_scores = mutual_info_classif(X_train, y_train, random_state=42)\n",
        "        top_indices = np.argsort(mi_scores)[-n_features:]\n",
        "        return X_train[:, top_indices], X_test[:, top_indices]\n",
        "\n",
        "    @staticmethod\n",
        "    def random_selection(X_train, X_test, n_features):\n",
        "        \"\"\"Random feature selection (baseline)\"\"\"\n",
        "        np.random.seed(42)\n",
        "        indices = np.random.choice(X_train.shape[1], n_features, replace=False)\n",
        "        return X_train[:, indices], X_test[:, indices]\n",
        "\n",
        "print(\"✓ FeatureSelector defined\")"
      ]
    },
    {
      "cell_type": "markdown",
      "metadata": {
        "id": "ndd05tp8RpEM"
      },
      "source": [
        "## Quantum Encoding"
      ]
    },
    {
      "cell_type": "code",
      "execution_count": 6,
      "metadata": {
        "id": "N1VH0pvzRpEM",
        "outputId": "d1a17eea-2985-4320-d224-08c993f88144",
        "colab": {
          "base_uri": "https://localhost:8080/"
        }
      },
      "outputs": [
        {
          "output_type": "stream",
          "name": "stdout",
          "text": [
            "✓ QuantumEncoder defined\n"
          ]
        }
      ],
      "source": [
        "class QuantumEncoder:\n",
        "    \"\"\"Quantum data encoding methods\"\"\"\n",
        "\n",
        "    @staticmethod\n",
        "    def angle_encoding(features, wires):\n",
        "        \"\"\"Encode data as rotation angles\"\"\"\n",
        "        for i, wire in enumerate(wires):\n",
        "            if i < len(features):\n",
        "                qml.RY(features[i], wires=wire)\n",
        "\n",
        "    @staticmethod\n",
        "    def amplitude_encoding(features, wires):\n",
        "        \"\"\"Encode data as quantum state amplitudes\"\"\"\n",
        "        n_amplitudes = 2 ** len(wires)\n",
        "        padded = np.zeros(n_amplitudes)\n",
        "        padded[:len(features)] = features\n",
        "        normalized = padded / np.linalg.norm(padded) if np.linalg.norm(padded) > 0 else padded\n",
        "        qml.AmplitudeEmbedding(normalized, wires=wires, normalize=True)\n",
        "\n",
        "print(\"✓ QuantumEncoder defined\")"
      ]
    },
    {
      "cell_type": "markdown",
      "metadata": {
        "id": "_lvoX_OeRpEN"
      },
      "source": [
        "## Quantum Neural Network"
      ]
    },
    {
      "cell_type": "code",
      "execution_count": 19,
      "metadata": {
        "id": "elKNBtB3RpEN",
        "outputId": "6190b6ca-bbd9-4346-e9ad-a3051c27ddc1",
        "colab": {
          "base_uri": "https://localhost:8080/"
        }
      },
      "outputs": [
        {
          "output_type": "stream",
          "name": "stdout",
          "text": [
            "✓ QuantumNeuralNetwork defined\n"
          ]
        }
      ],
      "source": [
        "from autograd import numpy as anp\n",
        "\n",
        "class QuantumNeuralNetwork:\n",
        "    \"\"\"Parameterized quantum circuit for classification\"\"\"\n",
        "\n",
        "    def __init__(self, n_qubits, n_layers, encoding_method='angle'):\n",
        "        self.n_qubits = n_qubits\n",
        "        self.n_layers = n_layers\n",
        "        self.encoding_method = encoding_method\n",
        "\n",
        "        # Initialize quantum device\n",
        "        try:\n",
        "            self.dev = qml.device(config.DEVICE_NAME, wires=n_qubits)\n",
        "        except:\n",
        "            print(f\"Warning: {config.DEVICE_NAME} not available, using default.qubit\")\n",
        "            self.dev = qml.device('default.qubit', wires=n_qubits)\n",
        "\n",
        "        # Initialize parameters as numpy array\n",
        "        self.n_params = n_layers * n_qubits * 3  # 3 rotations per qubit per layer\n",
        "        self.params = np.random.randn(self.n_params) * 0.1\n",
        "\n",
        "        # Create QNode WITH interface='autograd' - CRITICAL FIX\n",
        "        self.qnode = qml.QNode(self._circuit, self.dev, interface='autograd')\n",
        "\n",
        "    def _circuit(self, features, params):\n",
        "        \"\"\"Quantum circuit architecture\"\"\"\n",
        "        wires = range(self.n_qubits)\n",
        "\n",
        "        # Data encoding\n",
        "        if self.encoding_method == 'angle':\n",
        "            QuantumEncoder.angle_encoding(features, wires)\n",
        "        elif self.encoding_method == 'amplitude':\n",
        "            QuantumEncoder.amplitude_encoding(features, wires)\n",
        "        else:\n",
        "            raise ValueError(f\"Unknown encoding method: {self.encoding_method}\")\n",
        "\n",
        "        # Parameterized layers\n",
        "        for layer in range(self.n_layers):\n",
        "            # Single-qubit rotations\n",
        "            for i in range(self.n_qubits):\n",
        "                idx = layer * self.n_qubits * 3 + i * 3\n",
        "                qml.RX(params[idx], wires=i)\n",
        "                qml.RY(params[idx + 1], wires=i)\n",
        "                qml.RZ(params[idx + 2], wires=i)\n",
        "\n",
        "            # Entangling layer (circular connectivity)\n",
        "            for i in range(self.n_qubits):\n",
        "                qml.CNOT(wires=[i, (i + 1) % self.n_qubits])\n",
        "\n",
        "        # Measurement\n",
        "        return qml.expval(qml.PauliZ(0))\n",
        "\n",
        "    def predict_single(self, features):\n",
        "        \"\"\"Predict for a single sample\"\"\"\n",
        "        output = self.qnode(features, self.params)\n",
        "        return 1 if output > 0 else 0\n",
        "\n",
        "    def predict_batch(self, X):\n",
        "        \"\"\"Predict batch of samples\"\"\"\n",
        "        return np.array([self.predict_single(x) for x in X])\n",
        "\n",
        "    def train_step(self, X_batch, y_batch, learning_rate):\n",
        "        \"\"\"Single training step with gradient descent\"\"\"\n",
        "        def loss_fn(params):\n",
        "            # Use autograd numpy for operations inside gradient computation\n",
        "            predictions = anp.array([self.qnode(x, params) for x in X_batch])\n",
        "            targets = 2 * y_batch - 1\n",
        "            return anp.mean((predictions - targets) ** 2)\n",
        "\n",
        "        # Compute gradients - argnum=0 specifies first argument\n",
        "        grad_fn = qml.grad(loss_fn, argnum=0)\n",
        "        gradients = grad_fn(self.params)\n",
        "\n",
        "        # Update parameters (regular numpy is fine here)\n",
        "        self.params = self.params - learning_rate * np.array(gradients)\n",
        "\n",
        "        return float(loss_fn(self.params))\n",
        "\n",
        "print(\"✓ QuantumNeuralNetwork defined\")"
      ]
    },
    {
      "cell_type": "markdown",
      "metadata": {
        "id": "hIBXeTtkRpEO"
      },
      "source": [
        "## Adaptive Controller"
      ]
    },
    {
      "cell_type": "code",
      "execution_count": 20,
      "metadata": {
        "id": "5AV1xqZoRpEO",
        "outputId": "6499d4a2-7ff1-4aca-c3bf-b3bbf37b36dd",
        "colab": {
          "base_uri": "https://localhost:8080/"
        }
      },
      "outputs": [
        {
          "output_type": "stream",
          "name": "stdout",
          "text": [
            "✓ AdaptiveController defined\n"
          ]
        }
      ],
      "source": [
        "class AdaptiveController:\n",
        "    \"\"\"Adaptive configuration selection\"\"\"\n",
        "\n",
        "    def __init__(self, configurations, strategy='ucb'):\n",
        "        self.configurations = configurations\n",
        "        self.strategy = strategy\n",
        "\n",
        "        # Tracking\n",
        "        self.rewards = {cfg: [] for cfg in configurations}\n",
        "        self.selection_counts = {cfg: 0 for cfg in configurations}\n",
        "        self.total_selections = 0\n",
        "\n",
        "        # Strategy parameters\n",
        "        self.ucb_c = config.UCB_C\n",
        "        self.epsilon = config.EPSILON\n",
        "\n",
        "    def select_configuration(self):\n",
        "        \"\"\"Select next configuration to try\"\"\"\n",
        "        if self.strategy == 'round_robin':\n",
        "            idx = self.total_selections % len(self.configurations)\n",
        "            return self.configurations[idx]\n",
        "\n",
        "        elif self.strategy == 'epsilon_greedy':\n",
        "            if np.random.random() < self.epsilon or self.total_selections < len(self.configurations):\n",
        "                # Explore\n",
        "                return np.random.choice(self.configurations)\n",
        "            else:\n",
        "                # Exploit\n",
        "                return self.get_best_configuration()\n",
        "\n",
        "        elif self.strategy == 'ucb':\n",
        "            # Ensure each config tried at least once\n",
        "            if self.total_selections < len(self.configurations):\n",
        "                return self.configurations[self.total_selections]\n",
        "\n",
        "            # UCB selection\n",
        "            ucb_values = {}\n",
        "            for cfg in self.configurations:\n",
        "                if len(self.rewards[cfg]) == 0:\n",
        "                    ucb_values[cfg] = float('inf')\n",
        "                else:\n",
        "                    mean_reward = np.mean(self.rewards[cfg])\n",
        "                    exploration = self.ucb_c * np.sqrt(\n",
        "                        np.log(self.total_selections) / self.selection_counts[cfg]\n",
        "                    )\n",
        "                    ucb_values[cfg] = mean_reward + exploration\n",
        "\n",
        "            return max(ucb_values, key=ucb_values.get)\n",
        "\n",
        "    def update(self, configuration, reward):\n",
        "        \"\"\"Update with new reward\"\"\"\n",
        "        self.rewards[configuration].append(reward)\n",
        "        self.selection_counts[configuration] += 1\n",
        "        self.total_selections += 1\n",
        "\n",
        "    def get_best_configuration(self):\n",
        "        \"\"\"Get configuration with highest mean reward\"\"\"\n",
        "        mean_rewards = {\n",
        "            cfg: np.mean(rewards) if rewards else 0\n",
        "            for cfg, rewards in self.rewards.items()\n",
        "        }\n",
        "        return max(mean_rewards, key=mean_rewards.get)\n",
        "\n",
        "    def get_statistics(self):\n",
        "        \"\"\"Get performance statistics\"\"\"\n",
        "        stats = []\n",
        "        for cfg in self.configurations:\n",
        "            if self.rewards[cfg]:\n",
        "                stats.append({\n",
        "                    'configuration': cfg,\n",
        "                    'mean_reward': np.mean(self.rewards[cfg]),\n",
        "                    'std_reward': np.std(self.rewards[cfg]),\n",
        "                    'count': len(self.rewards[cfg])\n",
        "                })\n",
        "        return sorted(stats, key=lambda x: x['mean_reward'], reverse=True)\n",
        "\n",
        "print(\"✓ AdaptiveController defined\")"
      ]
    },
    {
      "cell_type": "markdown",
      "metadata": {
        "id": "PxwOgTU7RpEP"
      },
      "source": [
        "## Main Training Pipeline"
      ]
    },
    {
      "cell_type": "code",
      "execution_count": 21,
      "metadata": {
        "id": "Ns9zyx0-RpEP",
        "outputId": "0b88d0cc-3441-4391-8d94-9673a0cca185",
        "colab": {
          "base_uri": "https://localhost:8080/"
        }
      },
      "outputs": [
        {
          "output_type": "stream",
          "name": "stdout",
          "text": [
            "✓ AdaptiveQNNTrainer defined\n"
          ]
        }
      ],
      "source": [
        "class AdaptiveQNNTrainer:\n",
        "    \"\"\"Main training pipeline\"\"\"\n",
        "\n",
        "    def __init__(self):\n",
        "        # Load data\n",
        "        print(\"Loading dataset...\")\n",
        "        X, y, feature_names = DataLoader.load_dataset(config.DATASET)\n",
        "        X_train, X_test, y_train, y_test = train_test_split(\n",
        "            X, y, test_size=config.TEST_SIZE, random_state=config.RANDOM_STATE\n",
        "        )\n",
        "        X_train, X_test, y_train, y_test = DataLoader.preprocess(\n",
        "            X_train, X_test, y_train, y_test\n",
        "        )\n",
        "\n",
        "        self.X_train = X_train\n",
        "        self.X_test = X_test\n",
        "        self.y_train = y_train\n",
        "        self.y_test = y_test\n",
        "\n",
        "        print(f\"Dataset: {config.DATASET}\")\n",
        "        print(f\"Training: {len(X_train)}, Test: {len(X_test)}\")\n",
        "        print(f\"Features: {X_train.shape[1]} → {config.N_QUBITS}\")\n",
        "\n",
        "        # Define configurations\n",
        "        feature_methods = ['PCA', 'Correlation', 'MutualInfo', 'Random']\n",
        "        encoding_methods = ['angle', 'amplitude']\n",
        "\n",
        "        self.configurations = [\n",
        "            f\"{fm}+{em}\" for fm in feature_methods for em in encoding_methods\n",
        "        ]\n",
        "\n",
        "        # Initialize controller\n",
        "        self.controller = AdaptiveController(self.configurations, config.STRATEGY)\n",
        "\n",
        "        # Tracking\n",
        "        self.training_history = {\n",
        "            'train_acc': [],\n",
        "            'val_acc': [],\n",
        "            'config': [],\n",
        "            'epoch_time': []\n",
        "        }\n",
        "\n",
        "        self.start_time = time.time()\n",
        "\n",
        "    def apply_feature_selection(self, method):\n",
        "        \"\"\"Apply feature selection\"\"\"\n",
        "        if method == 'PCA':\n",
        "            return FeatureSelector.pca(self.X_train, self.X_test, config.N_QUBITS)\n",
        "        elif method == 'Correlation':\n",
        "            return FeatureSelector.correlation(\n",
        "                self.X_train, self.X_test, self.y_train, config.N_QUBITS\n",
        "            )\n",
        "        elif method == 'MutualInfo':\n",
        "            return FeatureSelector.mutual_info(\n",
        "                self.X_train, self.X_test, self.y_train, config.N_QUBITS\n",
        "            )\n",
        "        elif method == 'Random':\n",
        "            return FeatureSelector.random_selection(\n",
        "                self.X_train, self.X_test, config.N_QUBITS\n",
        "            )\n",
        "\n",
        "    def train_epoch(self, qnn, X_train, X_test, y_train, y_test):\n",
        "        \"\"\"Train for one epoch\"\"\"\n",
        "        epoch_start = time.time()\n",
        "\n",
        "        # Training\n",
        "        n_samples = len(X_train)\n",
        "        indices = np.random.permutation(n_samples)\n",
        "\n",
        "        for i in range(0, n_samples, config.BATCH_SIZE):\n",
        "            batch_indices = indices[i:i + config.BATCH_SIZE]\n",
        "            X_batch = X_train[batch_indices]\n",
        "            y_batch = y_train[batch_indices]\n",
        "            qnn.train_step(X_batch, y_batch, config.LEARNING_RATE)\n",
        "\n",
        "        # Evaluation\n",
        "        train_pred = qnn.predict_batch(X_train)\n",
        "        train_acc = np.mean(train_pred == y_train)\n",
        "\n",
        "        val_pred = qnn.predict_batch(X_test)\n",
        "        val_acc = np.mean(val_pred == y_test)\n",
        "\n",
        "        epoch_time = time.time() - epoch_start\n",
        "\n",
        "        return train_acc, val_acc, epoch_time\n",
        "\n",
        "    def run(self):\n",
        "        \"\"\"Run full training\"\"\"\n",
        "        print(f\"\\n{'='*70}\")\n",
        "        print(f\"STARTING ADAPTIVE QNN TRAINING\")\n",
        "        print(f\"{'='*70}\")\n",
        "        print(f\"Configuration: {config.N_QUBITS} qubits, {config.N_LAYERS} layers\")\n",
        "        print(f\"Strategy: {config.STRATEGY}\")\n",
        "        print(f\"Epochs: {config.N_EPOCHS}\")\n",
        "        print(f\"{'='*70}\\n\")\n",
        "\n",
        "        for epoch in range(config.N_EPOCHS):\n",
        "            # Select configuration\n",
        "            config_name = self.controller.select_configuration()\n",
        "            feature_method, encoding_method = config_name.split('+')\n",
        "\n",
        "            # Apply feature selection\n",
        "            X_train_reduced, X_test_reduced = self.apply_feature_selection(feature_method)\n",
        "\n",
        "            # Create QNN\n",
        "            qnn = QuantumNeuralNetwork(\n",
        "                config.N_QUBITS, config.N_LAYERS, encoding_method\n",
        "            )\n",
        "\n",
        "            # Train\n",
        "            train_acc, val_acc, epoch_time = self.train_epoch(\n",
        "                qnn, X_train_reduced, X_test_reduced, self.y_train, self.y_test\n",
        "            )\n",
        "\n",
        "            # Update controller\n",
        "            self.controller.update(config_name, val_acc)\n",
        "\n",
        "            # Track history\n",
        "            self.training_history['train_acc'].append(train_acc)\n",
        "            self.training_history['val_acc'].append(val_acc)\n",
        "            self.training_history['config'].append(config_name)\n",
        "            self.training_history['epoch_time'].append(epoch_time)\n",
        "\n",
        "            # Progress\n",
        "            if config.VERBOSE:\n",
        "                best_config = self.controller.get_best_configuration()\n",
        "                best_reward = np.mean(self.controller.rewards[best_config]) if self.controller.rewards[best_config] else 0\n",
        "\n",
        "                print(f\"Epoch {epoch+1:3d}/{config.N_EPOCHS} | \"\n",
        "                      f\"Config: {config_name:25s} | \"\n",
        "                      f\"Train: {train_acc:.4f} | \"\n",
        "                      f\"Val: {val_acc:.4f} | \"\n",
        "                      f\"Best: {best_config:20s} ({best_reward:.4f}) | \"\n",
        "                      f\"Time: {epoch_time:.2f}s\")\n",
        "\n",
        "        self.total_time = time.time() - self.start_time\n",
        "        self.generate_report()\n",
        "\n",
        "        if config.SAVE_RESULTS:\n",
        "            self.save_results()\n",
        "\n",
        "        if config.PLOT_RESULTS:\n",
        "            self.plot_results()\n",
        "\n",
        "    def generate_report(self):\n",
        "        \"\"\"Generate report\"\"\"\n",
        "        print(f\"\\n{'='*70}\")\n",
        "        print(\"EXPERIMENT REPORT\")\n",
        "        print(f\"{'='*70}\")\n",
        "\n",
        "        print(f\"\\nTraining Summary:\")\n",
        "        print(f\"  Total Epochs: {config.N_EPOCHS}\")\n",
        "        print(f\"  Total Time: {self.total_time:.2f}s\")\n",
        "        print(f\"  Avg Time/Epoch: {self.total_time/config.N_EPOCHS:.2f}s\")\n",
        "\n",
        "        best_config = self.controller.get_best_configuration()\n",
        "        best_rewards = self.controller.rewards[best_config]\n",
        "\n",
        "        print(f\"\\nBest Configuration:\")\n",
        "        print(f\"  Config: {best_config}\")\n",
        "        print(f\"  Mean Reward: {np.mean(best_rewards):.4f}\")\n",
        "        print(f\"  Std Dev: {np.std(best_rewards):.4f}\")\n",
        "        print(f\"  Times Selected: {len(best_rewards)}\")\n",
        "\n",
        "        print(f\"\\nAll Configurations:\")\n",
        "        print(f\"{'Configuration':<25s} {'Mean':<10s} {'Count':<8s} {'Std':<10s}\")\n",
        "        print(\"-\" * 70)\n",
        "\n",
        "        stats = self.controller.get_statistics()\n",
        "        for stat in stats:\n",
        "            print(f\"{stat['configuration']:<25s} \"\n",
        "                  f\"{stat['mean_reward']:<10.4f} \"\n",
        "                  f\"{stat['count']:<8d} \"\n",
        "                  f\"{stat['std_reward']:<10.4f}\")\n",
        "\n",
        "        print(f\"\\n{'='*70}\\n\")\n",
        "\n",
        "    def save_results(self):\n",
        "        \"\"\"Save results to JSON\"\"\"\n",
        "        results = {\n",
        "            'config': {\n",
        "                'n_qubits': config.N_QUBITS,\n",
        "                'n_layers': config.N_LAYERS,\n",
        "                'n_epochs': config.N_EPOCHS,\n",
        "                'strategy': config.STRATEGY,\n",
        "                'dataset': config.DATASET\n",
        "            },\n",
        "            'training_history': self.training_history,\n",
        "            'controller_stats': self.controller.get_statistics(),\n",
        "            'total_time': self.total_time\n",
        "        }\n",
        "\n",
        "        filename = config.OUTPUT_DIR / f'results_{datetime.now().strftime(\"%Y%m%d_%H%M%S\")}.json'\n",
        "        with open(filename, 'w') as f:\n",
        "            json.dump(results, f, indent=2)\n",
        "\n",
        "        print(f\"✓ Results saved: {filename}\")\n",
        "\n",
        "    def plot_results(self):\n",
        "        \"\"\"Generate plots\"\"\"\n",
        "        fig, axes = plt.subplots(2, 2, figsize=(15, 10))\n",
        "\n",
        "        # Plot 1: Training progress\n",
        "        ax = axes[0, 0]\n",
        "        epochs = range(1, len(self.training_history['train_acc']) + 1)\n",
        "        ax.plot(epochs, self.training_history['train_acc'], label='Train', linewidth=2)\n",
        "        ax.plot(epochs, self.training_history['val_acc'], label='Validation', linewidth=2)\n",
        "        ax.set_xlabel('Epoch')\n",
        "        ax.set_ylabel('Accuracy')\n",
        "        ax.set_title('Training Progress')\n",
        "        ax.legend()\n",
        "        ax.grid(alpha=0.3)\n",
        "\n",
        "        # Plot 2: Configuration frequency\n",
        "        ax = axes[0, 1]\n",
        "        config_counts = {cfg: self.controller.selection_counts[cfg] for cfg in self.configurations}\n",
        "        configs = list(config_counts.keys())\n",
        "        counts = list(config_counts.values())\n",
        "\n",
        "        y_pos = np.arange(len(configs))\n",
        "        ax.barh(y_pos, counts)\n",
        "        ax.set_yticks(y_pos)\n",
        "        ax.set_yticklabels(configs, fontsize=9)\n",
        "        ax.set_xlabel('Times Selected')\n",
        "        ax.set_title('Configuration Selection Frequency')\n",
        "        ax.grid(axis='x', alpha=0.3)\n",
        "\n",
        "        # Plot 3: Performance by configuration\n",
        "        ax = axes[1, 0]\n",
        "        stats = self.controller.get_statistics()\n",
        "        configs = [s['configuration'] for s in stats]\n",
        "        means = [s['mean_reward'] for s in stats]\n",
        "        stds = [s['std_reward'] for s in stats]\n",
        "\n",
        "        y_pos = np.arange(len(configs))\n",
        "        ax.barh(y_pos, means, xerr=stds, capsize=5)\n",
        "        ax.set_yticks(y_pos)\n",
        "        ax.set_yticklabels(configs, fontsize=9)\n",
        "        ax.set_xlabel('Mean Validation Accuracy')\n",
        "        ax.set_title('Performance by Configuration')\n",
        "        ax.grid(axis='x', alpha=0.3)\n",
        "\n",
        "        # Plot 4: Configuration timeline\n",
        "        ax = axes[1, 1]\n",
        "        unique_configs = list(set(self.training_history['config']))\n",
        "        config_to_num = {c: i for i, c in enumerate(unique_configs)}\n",
        "        config_nums = [config_to_num[c] for c in self.training_history['config']]\n",
        "\n",
        "        scatter = ax.scatter(epochs, config_nums, c=self.training_history['val_acc'],\n",
        "                           cmap='viridis', s=50, alpha=0.6)\n",
        "        ax.set_yticks(range(len(unique_configs)))\n",
        "        ax.set_yticklabels(unique_configs, fontsize=8)\n",
        "        ax.set_xlabel('Epoch')\n",
        "        ax.set_title('Configuration Selection Timeline')\n",
        "        plt.colorbar(scatter, ax=ax, label='Reward')\n",
        "        ax.grid(alpha=0.3, axis='x')\n",
        "\n",
        "        plt.tight_layout()\n",
        "\n",
        "        filename = config.OUTPUT_DIR / f'plots_{datetime.now().strftime(\"%Y%m%d_%H%M%S\")}.png'\n",
        "        plt.savefig(filename, dpi=300, bbox_inches='tight')\n",
        "        print(f\"✓ Plots saved: {filename}\")\n",
        "\n",
        "        plt.show()\n",
        "\n",
        "print(\"✓ AdaptiveQNNTrainer defined\")"
      ]
    },
    {
      "cell_type": "markdown",
      "metadata": {
        "id": "EyZsTiBkRpER"
      },
      "source": [
        "## Run Experiment"
      ]
    },
    {
      "cell_type": "code",
      "execution_count": 22,
      "metadata": {
        "id": "JPDh9oDZRpES",
        "outputId": "a92ead30-e963-46d4-d138-bd00b2e78b2c",
        "colab": {
          "base_uri": "https://localhost:8080/",
          "height": 555
        }
      },
      "outputs": [
        {
          "output_type": "stream",
          "name": "stdout",
          "text": [
            "Loading dataset...\n",
            "Dataset: wine\n",
            "Training: 91, Test: 39\n",
            "Features: 13 → 10\n",
            "\n",
            "======================================================================\n",
            "STARTING ADAPTIVE QNN TRAINING\n",
            "======================================================================\n",
            "Configuration: 10 qubits, 2 layers\n",
            "Strategy: ucb\n",
            "Epochs: 30\n",
            "======================================================================\n",
            "\n",
            "Epoch   1/30 | Config: PCA+angle                 | Train: 0.5604 | Val: 0.5385 | Best: PCA+angle            (0.5385) | Time: 2.97s\n",
            "Epoch   2/30 | Config: PCA+amplitude             | Train: 0.4176 | Val: 0.4103 | Best: PCA+angle            (0.5385) | Time: 2.94s\n"
          ]
        },
        {
          "output_type": "error",
          "ename": "KeyboardInterrupt",
          "evalue": "",
          "traceback": [
            "\u001b[0;31m---------------------------------------------------------------------------\u001b[0m",
            "\u001b[0;31mKeyboardInterrupt\u001b[0m                         Traceback (most recent call last)",
            "\u001b[0;32m/tmp/ipython-input-4188770680.py\u001b[0m in \u001b[0;36m<cell line: 0>\u001b[0;34m()\u001b[0m\n\u001b[1;32m      1\u001b[0m \u001b[0;31m# Create and run trainer\u001b[0m\u001b[0;34m\u001b[0m\u001b[0;34m\u001b[0m\u001b[0m\n\u001b[1;32m      2\u001b[0m \u001b[0mtrainer\u001b[0m \u001b[0;34m=\u001b[0m \u001b[0mAdaptiveQNNTrainer\u001b[0m\u001b[0;34m(\u001b[0m\u001b[0;34m)\u001b[0m\u001b[0;34m\u001b[0m\u001b[0;34m\u001b[0m\u001b[0m\n\u001b[0;32m----> 3\u001b[0;31m \u001b[0mtrainer\u001b[0m\u001b[0;34m.\u001b[0m\u001b[0mrun\u001b[0m\u001b[0;34m(\u001b[0m\u001b[0;34m)\u001b[0m\u001b[0;34m\u001b[0m\u001b[0;34m\u001b[0m\u001b[0m\n\u001b[0m",
            "\u001b[0;32m/tmp/ipython-input-1588797500.py\u001b[0m in \u001b[0;36mrun\u001b[0;34m(self)\u001b[0m\n\u001b[1;32m    109\u001b[0m \u001b[0;34m\u001b[0m\u001b[0m\n\u001b[1;32m    110\u001b[0m             \u001b[0;31m# Train\u001b[0m\u001b[0;34m\u001b[0m\u001b[0;34m\u001b[0m\u001b[0m\n\u001b[0;32m--> 111\u001b[0;31m             train_acc, val_acc, epoch_time = self.train_epoch(\n\u001b[0m\u001b[1;32m    112\u001b[0m                 \u001b[0mqnn\u001b[0m\u001b[0;34m,\u001b[0m \u001b[0mX_train_reduced\u001b[0m\u001b[0;34m,\u001b[0m \u001b[0mX_test_reduced\u001b[0m\u001b[0;34m,\u001b[0m \u001b[0mself\u001b[0m\u001b[0;34m.\u001b[0m\u001b[0my_train\u001b[0m\u001b[0;34m,\u001b[0m \u001b[0mself\u001b[0m\u001b[0;34m.\u001b[0m\u001b[0my_test\u001b[0m\u001b[0;34m\u001b[0m\u001b[0;34m\u001b[0m\u001b[0m\n\u001b[1;32m    113\u001b[0m             )\n",
            "\u001b[0;32m/tmp/ipython-input-1588797500.py\u001b[0m in \u001b[0;36mtrain_epoch\u001b[0;34m(self, qnn, X_train, X_test, y_train, y_test)\u001b[0m\n\u001b[1;32m     72\u001b[0m             \u001b[0mX_batch\u001b[0m \u001b[0;34m=\u001b[0m \u001b[0mX_train\u001b[0m\u001b[0;34m[\u001b[0m\u001b[0mbatch_indices\u001b[0m\u001b[0;34m]\u001b[0m\u001b[0;34m\u001b[0m\u001b[0;34m\u001b[0m\u001b[0m\n\u001b[1;32m     73\u001b[0m             \u001b[0my_batch\u001b[0m \u001b[0;34m=\u001b[0m \u001b[0my_train\u001b[0m\u001b[0;34m[\u001b[0m\u001b[0mbatch_indices\u001b[0m\u001b[0;34m]\u001b[0m\u001b[0;34m\u001b[0m\u001b[0;34m\u001b[0m\u001b[0m\n\u001b[0;32m---> 74\u001b[0;31m             \u001b[0mqnn\u001b[0m\u001b[0;34m.\u001b[0m\u001b[0mtrain_step\u001b[0m\u001b[0;34m(\u001b[0m\u001b[0mX_batch\u001b[0m\u001b[0;34m,\u001b[0m \u001b[0my_batch\u001b[0m\u001b[0;34m,\u001b[0m \u001b[0mconfig\u001b[0m\u001b[0;34m.\u001b[0m\u001b[0mLEARNING_RATE\u001b[0m\u001b[0;34m)\u001b[0m\u001b[0;34m\u001b[0m\u001b[0;34m\u001b[0m\u001b[0m\n\u001b[0m\u001b[1;32m     75\u001b[0m \u001b[0;34m\u001b[0m\u001b[0m\n\u001b[1;32m     76\u001b[0m         \u001b[0;31m# Evaluation\u001b[0m\u001b[0;34m\u001b[0m\u001b[0;34m\u001b[0m\u001b[0m\n",
            "\u001b[0;32m/tmp/ipython-input-4142134885.py\u001b[0m in \u001b[0;36mtrain_step\u001b[0;34m(self, X_batch, y_batch, learning_rate)\u001b[0m\n\u001b[1;32m     70\u001b[0m         \u001b[0;31m# Compute gradients - argnum=0 specifies first argument\u001b[0m\u001b[0;34m\u001b[0m\u001b[0;34m\u001b[0m\u001b[0m\n\u001b[1;32m     71\u001b[0m         \u001b[0mgrad_fn\u001b[0m \u001b[0;34m=\u001b[0m \u001b[0mqml\u001b[0m\u001b[0;34m.\u001b[0m\u001b[0mgrad\u001b[0m\u001b[0;34m(\u001b[0m\u001b[0mloss_fn\u001b[0m\u001b[0;34m,\u001b[0m \u001b[0margnum\u001b[0m\u001b[0;34m=\u001b[0m\u001b[0;36m0\u001b[0m\u001b[0;34m)\u001b[0m\u001b[0;34m\u001b[0m\u001b[0;34m\u001b[0m\u001b[0m\n\u001b[0;32m---> 72\u001b[0;31m         \u001b[0mgradients\u001b[0m \u001b[0;34m=\u001b[0m \u001b[0mgrad_fn\u001b[0m\u001b[0;34m(\u001b[0m\u001b[0mself\u001b[0m\u001b[0;34m.\u001b[0m\u001b[0mparams\u001b[0m\u001b[0;34m)\u001b[0m\u001b[0;34m\u001b[0m\u001b[0;34m\u001b[0m\u001b[0m\n\u001b[0m\u001b[1;32m     73\u001b[0m \u001b[0;34m\u001b[0m\u001b[0m\n\u001b[1;32m     74\u001b[0m         \u001b[0;31m# Update parameters (regular numpy is fine here)\u001b[0m\u001b[0;34m\u001b[0m\u001b[0;34m\u001b[0m\u001b[0m\n",
            "\u001b[0;32m/usr/local/lib/python3.12/dist-packages/pennylane/_grad.py\u001b[0m in \u001b[0;36m__call__\u001b[0;34m(self, *args, **kwargs)\u001b[0m\n\u001b[1;32m    316\u001b[0m             \u001b[0;32mreturn\u001b[0m \u001b[0;34m(\u001b[0m\u001b[0;34m)\u001b[0m\u001b[0;34m\u001b[0m\u001b[0;34m\u001b[0m\u001b[0m\n\u001b[1;32m    317\u001b[0m \u001b[0;34m\u001b[0m\u001b[0m\n\u001b[0;32m--> 318\u001b[0;31m         \u001b[0mgrad_value\u001b[0m\u001b[0;34m,\u001b[0m \u001b[0mans\u001b[0m \u001b[0;34m=\u001b[0m \u001b[0mgrad_fn\u001b[0m\u001b[0;34m(\u001b[0m\u001b[0;34m*\u001b[0m\u001b[0margs\u001b[0m\u001b[0;34m,\u001b[0m \u001b[0;34m**\u001b[0m\u001b[0mkwargs\u001b[0m\u001b[0;34m)\u001b[0m  \u001b[0;31m# pylint: disable=not-callable\u001b[0m\u001b[0;34m\u001b[0m\u001b[0;34m\u001b[0m\u001b[0m\n\u001b[0m\u001b[1;32m    319\u001b[0m         \u001b[0mself\u001b[0m\u001b[0;34m.\u001b[0m\u001b[0m_forward\u001b[0m \u001b[0;34m=\u001b[0m \u001b[0mans\u001b[0m\u001b[0;34m\u001b[0m\u001b[0;34m\u001b[0m\u001b[0m\n\u001b[1;32m    320\u001b[0m \u001b[0;34m\u001b[0m\u001b[0m\n",
            "\u001b[0;32m/usr/local/lib/python3.12/dist-packages/autograd/wrap_util.py\u001b[0m in \u001b[0;36mnary_f\u001b[0;34m(*args, **kwargs)\u001b[0m\n\u001b[1;32m     21\u001b[0m             \u001b[0;32melse\u001b[0m\u001b[0;34m:\u001b[0m\u001b[0;34m\u001b[0m\u001b[0;34m\u001b[0m\u001b[0m\n\u001b[1;32m     22\u001b[0m                 \u001b[0mx\u001b[0m \u001b[0;34m=\u001b[0m \u001b[0mtuple\u001b[0m\u001b[0;34m(\u001b[0m\u001b[0margs\u001b[0m\u001b[0;34m[\u001b[0m\u001b[0mi\u001b[0m\u001b[0;34m]\u001b[0m \u001b[0;32mfor\u001b[0m \u001b[0mi\u001b[0m \u001b[0;32min\u001b[0m \u001b[0margnum\u001b[0m\u001b[0;34m)\u001b[0m\u001b[0;34m\u001b[0m\u001b[0;34m\u001b[0m\u001b[0m\n\u001b[0;32m---> 23\u001b[0;31m             \u001b[0;32mreturn\u001b[0m \u001b[0munary_operator\u001b[0m\u001b[0;34m(\u001b[0m\u001b[0munary_f\u001b[0m\u001b[0;34m,\u001b[0m \u001b[0mx\u001b[0m\u001b[0;34m,\u001b[0m \u001b[0;34m*\u001b[0m\u001b[0mnary_op_args\u001b[0m\u001b[0;34m,\u001b[0m \u001b[0;34m**\u001b[0m\u001b[0mnary_op_kwargs\u001b[0m\u001b[0;34m)\u001b[0m\u001b[0;34m\u001b[0m\u001b[0;34m\u001b[0m\u001b[0m\n\u001b[0m\u001b[1;32m     24\u001b[0m \u001b[0;34m\u001b[0m\u001b[0m\n\u001b[1;32m     25\u001b[0m         \u001b[0;32mreturn\u001b[0m \u001b[0mnary_f\u001b[0m\u001b[0;34m\u001b[0m\u001b[0;34m\u001b[0m\u001b[0m\n",
            "\u001b[0;32m/usr/local/lib/python3.12/dist-packages/pennylane/_grad.py\u001b[0m in \u001b[0;36m_grad_with_forward\u001b[0;34m(fun, x)\u001b[0m\n\u001b[1;32m    334\u001b[0m         \u001b[0mdifference\u001b[0m \u001b[0mbeing\u001b[0m \u001b[0mthat\u001b[0m \u001b[0mit\u001b[0m \u001b[0mreturns\u001b[0m \u001b[0mboth\u001b[0m \u001b[0mthe\u001b[0m \u001b[0mgradient\u001b[0m \u001b[0;34m*\u001b[0m\u001b[0;32mand\u001b[0m\u001b[0;34m*\u001b[0m \u001b[0mthe\u001b[0m \u001b[0mforward\u001b[0m \u001b[0;32mpass\u001b[0m\u001b[0;34m\u001b[0m\u001b[0;34m\u001b[0m\u001b[0m\n\u001b[1;32m    335\u001b[0m         value.\"\"\"\n\u001b[0;32m--> 336\u001b[0;31m         \u001b[0mvjp\u001b[0m\u001b[0;34m,\u001b[0m \u001b[0mans\u001b[0m \u001b[0;34m=\u001b[0m \u001b[0m_make_vjp\u001b[0m\u001b[0;34m(\u001b[0m\u001b[0mfun\u001b[0m\u001b[0;34m,\u001b[0m \u001b[0mx\u001b[0m\u001b[0;34m)\u001b[0m  \u001b[0;31m# pylint: disable=redefined-outer-name\u001b[0m\u001b[0;34m\u001b[0m\u001b[0;34m\u001b[0m\u001b[0m\n\u001b[0m\u001b[1;32m    337\u001b[0m \u001b[0;34m\u001b[0m\u001b[0m\n\u001b[1;32m    338\u001b[0m         \u001b[0;32mif\u001b[0m \u001b[0mvspace\u001b[0m\u001b[0;34m(\u001b[0m\u001b[0mans\u001b[0m\u001b[0;34m)\u001b[0m\u001b[0;34m.\u001b[0m\u001b[0msize\u001b[0m \u001b[0;34m!=\u001b[0m \u001b[0;36m1\u001b[0m\u001b[0;34m:\u001b[0m\u001b[0;34m\u001b[0m\u001b[0;34m\u001b[0m\u001b[0m\n",
            "\u001b[0;32m/usr/local/lib/python3.12/dist-packages/autograd/core.py\u001b[0m in \u001b[0;36mmake_vjp\u001b[0;34m(fun, x)\u001b[0m\n\u001b[1;32m     10\u001b[0m \u001b[0;32mdef\u001b[0m \u001b[0mmake_vjp\u001b[0m\u001b[0;34m(\u001b[0m\u001b[0mfun\u001b[0m\u001b[0;34m,\u001b[0m \u001b[0mx\u001b[0m\u001b[0;34m)\u001b[0m\u001b[0;34m:\u001b[0m\u001b[0;34m\u001b[0m\u001b[0;34m\u001b[0m\u001b[0m\n\u001b[1;32m     11\u001b[0m     \u001b[0mstart_node\u001b[0m \u001b[0;34m=\u001b[0m \u001b[0mVJPNode\u001b[0m\u001b[0;34m.\u001b[0m\u001b[0mnew_root\u001b[0m\u001b[0;34m(\u001b[0m\u001b[0;34m)\u001b[0m\u001b[0;34m\u001b[0m\u001b[0;34m\u001b[0m\u001b[0m\n\u001b[0;32m---> 12\u001b[0;31m     \u001b[0mend_value\u001b[0m\u001b[0;34m,\u001b[0m \u001b[0mend_node\u001b[0m \u001b[0;34m=\u001b[0m \u001b[0mtrace\u001b[0m\u001b[0;34m(\u001b[0m\u001b[0mstart_node\u001b[0m\u001b[0;34m,\u001b[0m \u001b[0mfun\u001b[0m\u001b[0;34m,\u001b[0m \u001b[0mx\u001b[0m\u001b[0;34m)\u001b[0m\u001b[0;34m\u001b[0m\u001b[0;34m\u001b[0m\u001b[0m\n\u001b[0m\u001b[1;32m     13\u001b[0m     \u001b[0;32mif\u001b[0m \u001b[0mend_node\u001b[0m \u001b[0;32mis\u001b[0m \u001b[0;32mNone\u001b[0m\u001b[0;34m:\u001b[0m\u001b[0;34m\u001b[0m\u001b[0;34m\u001b[0m\u001b[0m\n\u001b[1;32m     14\u001b[0m \u001b[0;34m\u001b[0m\u001b[0m\n",
            "\u001b[0;32m/usr/local/lib/python3.12/dist-packages/autograd/tracer.py\u001b[0m in \u001b[0;36mtrace\u001b[0;34m(start_node, fun, x)\u001b[0m\n\u001b[1;32m     10\u001b[0m     \u001b[0;32mwith\u001b[0m \u001b[0mtrace_stack\u001b[0m\u001b[0;34m.\u001b[0m\u001b[0mnew_trace\u001b[0m\u001b[0;34m(\u001b[0m\u001b[0;34m)\u001b[0m \u001b[0;32mas\u001b[0m \u001b[0mt\u001b[0m\u001b[0;34m:\u001b[0m\u001b[0;34m\u001b[0m\u001b[0;34m\u001b[0m\u001b[0m\n\u001b[1;32m     11\u001b[0m         \u001b[0mstart_box\u001b[0m \u001b[0;34m=\u001b[0m \u001b[0mnew_box\u001b[0m\u001b[0;34m(\u001b[0m\u001b[0mx\u001b[0m\u001b[0;34m,\u001b[0m \u001b[0mt\u001b[0m\u001b[0;34m,\u001b[0m \u001b[0mstart_node\u001b[0m\u001b[0;34m)\u001b[0m\u001b[0;34m\u001b[0m\u001b[0;34m\u001b[0m\u001b[0m\n\u001b[0;32m---> 12\u001b[0;31m         \u001b[0mend_box\u001b[0m \u001b[0;34m=\u001b[0m \u001b[0mfun\u001b[0m\u001b[0;34m(\u001b[0m\u001b[0mstart_box\u001b[0m\u001b[0;34m)\u001b[0m\u001b[0;34m\u001b[0m\u001b[0;34m\u001b[0m\u001b[0m\n\u001b[0m\u001b[1;32m     13\u001b[0m         \u001b[0;32mif\u001b[0m \u001b[0misbox\u001b[0m\u001b[0;34m(\u001b[0m\u001b[0mend_box\u001b[0m\u001b[0;34m)\u001b[0m \u001b[0;32mand\u001b[0m \u001b[0mend_box\u001b[0m\u001b[0;34m.\u001b[0m\u001b[0m_trace\u001b[0m \u001b[0;34m==\u001b[0m \u001b[0mstart_box\u001b[0m\u001b[0;34m.\u001b[0m\u001b[0m_trace\u001b[0m\u001b[0;34m:\u001b[0m\u001b[0;34m\u001b[0m\u001b[0;34m\u001b[0m\u001b[0m\n\u001b[1;32m     14\u001b[0m             \u001b[0;32mreturn\u001b[0m \u001b[0mend_box\u001b[0m\u001b[0;34m.\u001b[0m\u001b[0m_value\u001b[0m\u001b[0;34m,\u001b[0m \u001b[0mend_box\u001b[0m\u001b[0;34m.\u001b[0m\u001b[0m_node\u001b[0m\u001b[0;34m\u001b[0m\u001b[0;34m\u001b[0m\u001b[0m\n",
            "\u001b[0;32m/usr/local/lib/python3.12/dist-packages/autograd/wrap_util.py\u001b[0m in \u001b[0;36munary_f\u001b[0;34m(x)\u001b[0m\n\u001b[1;32m     15\u001b[0m                 \u001b[0;32melse\u001b[0m\u001b[0;34m:\u001b[0m\u001b[0;34m\u001b[0m\u001b[0;34m\u001b[0m\u001b[0m\n\u001b[1;32m     16\u001b[0m                     \u001b[0msubargs\u001b[0m \u001b[0;34m=\u001b[0m \u001b[0msubvals\u001b[0m\u001b[0;34m(\u001b[0m\u001b[0margs\u001b[0m\u001b[0;34m,\u001b[0m \u001b[0mzip\u001b[0m\u001b[0;34m(\u001b[0m\u001b[0margnum\u001b[0m\u001b[0;34m,\u001b[0m \u001b[0mx\u001b[0m\u001b[0;34m)\u001b[0m\u001b[0;34m)\u001b[0m\u001b[0;34m\u001b[0m\u001b[0;34m\u001b[0m\u001b[0m\n\u001b[0;32m---> 17\u001b[0;31m                 \u001b[0;32mreturn\u001b[0m \u001b[0mfun\u001b[0m\u001b[0;34m(\u001b[0m\u001b[0;34m*\u001b[0m\u001b[0msubargs\u001b[0m\u001b[0;34m,\u001b[0m \u001b[0;34m**\u001b[0m\u001b[0mkwargs\u001b[0m\u001b[0;34m)\u001b[0m\u001b[0;34m\u001b[0m\u001b[0;34m\u001b[0m\u001b[0m\n\u001b[0m\u001b[1;32m     18\u001b[0m \u001b[0;34m\u001b[0m\u001b[0m\n\u001b[1;32m     19\u001b[0m             \u001b[0;32mif\u001b[0m \u001b[0misinstance\u001b[0m\u001b[0;34m(\u001b[0m\u001b[0margnum\u001b[0m\u001b[0;34m,\u001b[0m \u001b[0mint\u001b[0m\u001b[0;34m)\u001b[0m\u001b[0;34m:\u001b[0m\u001b[0;34m\u001b[0m\u001b[0;34m\u001b[0m\u001b[0m\n",
            "\u001b[0;32m/tmp/ipython-input-4142134885.py\u001b[0m in \u001b[0;36mloss_fn\u001b[0;34m(params)\u001b[0m\n\u001b[1;32m     64\u001b[0m         \u001b[0;32mdef\u001b[0m \u001b[0mloss_fn\u001b[0m\u001b[0;34m(\u001b[0m\u001b[0mparams\u001b[0m\u001b[0;34m)\u001b[0m\u001b[0;34m:\u001b[0m\u001b[0;34m\u001b[0m\u001b[0;34m\u001b[0m\u001b[0m\n\u001b[1;32m     65\u001b[0m             \u001b[0;31m# Use autograd numpy for operations inside gradient computation\u001b[0m\u001b[0;34m\u001b[0m\u001b[0;34m\u001b[0m\u001b[0m\n\u001b[0;32m---> 66\u001b[0;31m             \u001b[0mpredictions\u001b[0m \u001b[0;34m=\u001b[0m \u001b[0manp\u001b[0m\u001b[0;34m.\u001b[0m\u001b[0marray\u001b[0m\u001b[0;34m(\u001b[0m\u001b[0;34m[\u001b[0m\u001b[0mself\u001b[0m\u001b[0;34m.\u001b[0m\u001b[0mqnode\u001b[0m\u001b[0;34m(\u001b[0m\u001b[0mx\u001b[0m\u001b[0;34m,\u001b[0m \u001b[0mparams\u001b[0m\u001b[0;34m)\u001b[0m \u001b[0;32mfor\u001b[0m \u001b[0mx\u001b[0m \u001b[0;32min\u001b[0m \u001b[0mX_batch\u001b[0m\u001b[0;34m]\u001b[0m\u001b[0;34m)\u001b[0m\u001b[0;34m\u001b[0m\u001b[0;34m\u001b[0m\u001b[0m\n\u001b[0m\u001b[1;32m     67\u001b[0m             \u001b[0mtargets\u001b[0m \u001b[0;34m=\u001b[0m \u001b[0;36m2\u001b[0m \u001b[0;34m*\u001b[0m \u001b[0my_batch\u001b[0m \u001b[0;34m-\u001b[0m \u001b[0;36m1\u001b[0m\u001b[0;34m\u001b[0m\u001b[0;34m\u001b[0m\u001b[0m\n\u001b[1;32m     68\u001b[0m             \u001b[0;32mreturn\u001b[0m \u001b[0manp\u001b[0m\u001b[0;34m.\u001b[0m\u001b[0mmean\u001b[0m\u001b[0;34m(\u001b[0m\u001b[0;34m(\u001b[0m\u001b[0mpredictions\u001b[0m \u001b[0;34m-\u001b[0m \u001b[0mtargets\u001b[0m\u001b[0;34m)\u001b[0m \u001b[0;34m**\u001b[0m \u001b[0;36m2\u001b[0m\u001b[0;34m)\u001b[0m\u001b[0;34m\u001b[0m\u001b[0;34m\u001b[0m\u001b[0m\n",
            "\u001b[0;32m/usr/local/lib/python3.12/dist-packages/pennylane/workflow/qnode.py\u001b[0m in \u001b[0;36m__call__\u001b[0;34m(self, *args, **kwargs)\u001b[0m\n\u001b[1;32m    893\u001b[0m \u001b[0;34m\u001b[0m\u001b[0m\n\u001b[1;32m    894\u001b[0m             \u001b[0;32mreturn\u001b[0m \u001b[0mcapture_qnode\u001b[0m\u001b[0;34m(\u001b[0m\u001b[0mself\u001b[0m\u001b[0;34m,\u001b[0m \u001b[0;34m*\u001b[0m\u001b[0margs\u001b[0m\u001b[0;34m,\u001b[0m \u001b[0;34m**\u001b[0m\u001b[0mkwargs\u001b[0m\u001b[0;34m)\u001b[0m\u001b[0;34m\u001b[0m\u001b[0;34m\u001b[0m\u001b[0m\n\u001b[0;32m--> 895\u001b[0;31m         \u001b[0;32mreturn\u001b[0m \u001b[0mself\u001b[0m\u001b[0;34m.\u001b[0m\u001b[0m_impl_call\u001b[0m\u001b[0;34m(\u001b[0m\u001b[0;34m*\u001b[0m\u001b[0margs\u001b[0m\u001b[0;34m,\u001b[0m \u001b[0;34m**\u001b[0m\u001b[0mkwargs\u001b[0m\u001b[0;34m)\u001b[0m\u001b[0;34m\u001b[0m\u001b[0;34m\u001b[0m\u001b[0m\n\u001b[0m\u001b[1;32m    896\u001b[0m \u001b[0;34m\u001b[0m\u001b[0m\n\u001b[1;32m    897\u001b[0m \u001b[0;34m\u001b[0m\u001b[0m\n",
            "\u001b[0;32m/usr/local/lib/python3.12/dist-packages/pennylane/workflow/qnode.py\u001b[0m in \u001b[0;36m_impl_call\u001b[0;34m(self, *args, **kwargs)\u001b[0m\n\u001b[1;32m    866\u001b[0m         \u001b[0mself\u001b[0m\u001b[0;34m.\u001b[0m\u001b[0m_transform_program\u001b[0m\u001b[0;34m.\u001b[0m\u001b[0mset_classical_component\u001b[0m\u001b[0;34m(\u001b[0m\u001b[0mself\u001b[0m\u001b[0;34m,\u001b[0m \u001b[0margs\u001b[0m\u001b[0;34m,\u001b[0m \u001b[0mkwargs\u001b[0m\u001b[0;34m)\u001b[0m\u001b[0;34m\u001b[0m\u001b[0;34m\u001b[0m\u001b[0m\n\u001b[1;32m    867\u001b[0m \u001b[0;34m\u001b[0m\u001b[0m\n\u001b[0;32m--> 868\u001b[0;31m         res = execute(\n\u001b[0m\u001b[1;32m    869\u001b[0m             \u001b[0;34m(\u001b[0m\u001b[0mtape\u001b[0m\u001b[0;34m,\u001b[0m\u001b[0;34m)\u001b[0m\u001b[0;34m,\u001b[0m\u001b[0;34m\u001b[0m\u001b[0;34m\u001b[0m\u001b[0m\n\u001b[1;32m    870\u001b[0m             \u001b[0mdevice\u001b[0m\u001b[0;34m=\u001b[0m\u001b[0mself\u001b[0m\u001b[0;34m.\u001b[0m\u001b[0mdevice\u001b[0m\u001b[0;34m,\u001b[0m\u001b[0;34m\u001b[0m\u001b[0;34m\u001b[0m\u001b[0m\n",
            "\u001b[0;32m/usr/local/lib/python3.12/dist-packages/pennylane/workflow/execution.py\u001b[0m in \u001b[0;36mexecute\u001b[0;34m(tapes, device, diff_method, interface, grad_on_execution, cache, cachesize, max_diff, device_vjp, postselect_mode, mcm_method, gradient_kwargs, transform_program, executor_backend)\u001b[0m\n\u001b[1;32m    236\u001b[0m     \u001b[0;32massert\u001b[0m \u001b[0;32mnot\u001b[0m \u001b[0mouter_transform\u001b[0m\u001b[0;34m.\u001b[0m\u001b[0mis_informative\u001b[0m\u001b[0;34m,\u001b[0m \u001b[0;34m\"should only contain device preprocessing\"\u001b[0m\u001b[0;34m\u001b[0m\u001b[0;34m\u001b[0m\u001b[0m\n\u001b[1;32m    237\u001b[0m \u001b[0;34m\u001b[0m\u001b[0m\n\u001b[0;32m--> 238\u001b[0;31m     \u001b[0mresults\u001b[0m \u001b[0;34m=\u001b[0m \u001b[0mrun\u001b[0m\u001b[0;34m(\u001b[0m\u001b[0mtapes\u001b[0m\u001b[0;34m,\u001b[0m \u001b[0mdevice\u001b[0m\u001b[0;34m,\u001b[0m \u001b[0mconfig\u001b[0m\u001b[0;34m,\u001b[0m \u001b[0minner_transform\u001b[0m\u001b[0;34m)\u001b[0m\u001b[0;34m\u001b[0m\u001b[0;34m\u001b[0m\u001b[0m\n\u001b[0m\u001b[1;32m    239\u001b[0m     \u001b[0;32mreturn\u001b[0m \u001b[0muser_post_processing\u001b[0m\u001b[0;34m(\u001b[0m\u001b[0mouter_post_processing\u001b[0m\u001b[0;34m(\u001b[0m\u001b[0mresults\u001b[0m\u001b[0;34m)\u001b[0m\u001b[0;34m)\u001b[0m\u001b[0;34m\u001b[0m\u001b[0;34m\u001b[0m\u001b[0m\n",
            "\u001b[0;32m/usr/local/lib/python3.12/dist-packages/pennylane/workflow/run.py\u001b[0m in \u001b[0;36mrun\u001b[0;34m(tapes, device, config, inner_transform_program)\u001b[0m\n\u001b[1;32m    343\u001b[0m             \u001b[0mtape\u001b[0m\u001b[0;34m.\u001b[0m\u001b[0mtrainable_params\u001b[0m \u001b[0;34m=\u001b[0m \u001b[0mmath\u001b[0m\u001b[0;34m.\u001b[0m\u001b[0mget_trainable_indices\u001b[0m\u001b[0;34m(\u001b[0m\u001b[0mparams\u001b[0m\u001b[0;34m)\u001b[0m\u001b[0;34m\u001b[0m\u001b[0;34m\u001b[0m\u001b[0m\n\u001b[1;32m    344\u001b[0m \u001b[0;34m\u001b[0m\u001b[0m\n\u001b[0;32m--> 345\u001b[0;31m     \u001b[0mresults\u001b[0m \u001b[0;34m=\u001b[0m \u001b[0mml_execute\u001b[0m\u001b[0;34m(\u001b[0m\u001b[0mtapes\u001b[0m\u001b[0;34m,\u001b[0m \u001b[0mexecute_fn\u001b[0m\u001b[0;34m,\u001b[0m \u001b[0mjpc\u001b[0m\u001b[0;34m,\u001b[0m \u001b[0mdevice\u001b[0m\u001b[0;34m=\u001b[0m\u001b[0mdevice\u001b[0m\u001b[0;34m)\u001b[0m\u001b[0;34m\u001b[0m\u001b[0;34m\u001b[0m\u001b[0m\n\u001b[0m\u001b[1;32m    346\u001b[0m     \u001b[0;32mreturn\u001b[0m \u001b[0mresults\u001b[0m\u001b[0;34m\u001b[0m\u001b[0;34m\u001b[0m\u001b[0m\n",
            "\u001b[0;32m/usr/local/lib/python3.12/dist-packages/pennylane/workflow/interfaces/autograd.py\u001b[0m in \u001b[0;36mautograd_execute\u001b[0;34m(tapes, execute_fn, jpc, device)\u001b[0m\n\u001b[1;32m    143\u001b[0m         \u001b[0;34m[\u001b[0m\u001b[0mautograd\u001b[0m\u001b[0;34m.\u001b[0m\u001b[0mbuiltins\u001b[0m\u001b[0;34m.\u001b[0m\u001b[0mlist\u001b[0m\u001b[0;34m(\u001b[0m\u001b[0mt\u001b[0m\u001b[0;34m.\u001b[0m\u001b[0mget_parameters\u001b[0m\u001b[0;34m(\u001b[0m\u001b[0;34m)\u001b[0m\u001b[0;34m)\u001b[0m \u001b[0;32mfor\u001b[0m \u001b[0mt\u001b[0m \u001b[0;32min\u001b[0m \u001b[0mtapes\u001b[0m\u001b[0;34m]\u001b[0m\u001b[0;34m\u001b[0m\u001b[0;34m\u001b[0m\u001b[0m\n\u001b[1;32m    144\u001b[0m     )\n\u001b[0;32m--> 145\u001b[0;31m     \u001b[0;32mreturn\u001b[0m \u001b[0m_execute\u001b[0m\u001b[0;34m(\u001b[0m\u001b[0mparameters\u001b[0m\u001b[0;34m,\u001b[0m \u001b[0mtuple\u001b[0m\u001b[0;34m(\u001b[0m\u001b[0mtapes\u001b[0m\u001b[0;34m)\u001b[0m\u001b[0;34m,\u001b[0m \u001b[0mexecute_fn\u001b[0m\u001b[0;34m,\u001b[0m \u001b[0mjpc\u001b[0m\u001b[0;34m)\u001b[0m\u001b[0;34m\u001b[0m\u001b[0;34m\u001b[0m\u001b[0m\n\u001b[0m\u001b[1;32m    146\u001b[0m \u001b[0;34m\u001b[0m\u001b[0m\n\u001b[1;32m    147\u001b[0m \u001b[0;34m\u001b[0m\u001b[0m\n",
            "\u001b[0;32m/usr/local/lib/python3.12/dist-packages/autograd/tracer.py\u001b[0m in \u001b[0;36mf_wrapped\u001b[0;34m(*args, **kwargs)\u001b[0m\n\u001b[1;32m     48\u001b[0m             \u001b[0mparents\u001b[0m \u001b[0;34m=\u001b[0m \u001b[0mtuple\u001b[0m\u001b[0;34m(\u001b[0m\u001b[0mbox\u001b[0m\u001b[0;34m.\u001b[0m\u001b[0m_node\u001b[0m \u001b[0;32mfor\u001b[0m \u001b[0m_\u001b[0m\u001b[0;34m,\u001b[0m \u001b[0mbox\u001b[0m \u001b[0;32min\u001b[0m \u001b[0mboxed_args\u001b[0m\u001b[0;34m)\u001b[0m\u001b[0;34m\u001b[0m\u001b[0;34m\u001b[0m\u001b[0m\n\u001b[1;32m     49\u001b[0m             \u001b[0margnums\u001b[0m \u001b[0;34m=\u001b[0m \u001b[0mtuple\u001b[0m\u001b[0;34m(\u001b[0m\u001b[0margnum\u001b[0m \u001b[0;32mfor\u001b[0m \u001b[0margnum\u001b[0m\u001b[0;34m,\u001b[0m \u001b[0m_\u001b[0m \u001b[0;32min\u001b[0m \u001b[0mboxed_args\u001b[0m\u001b[0;34m)\u001b[0m\u001b[0;34m\u001b[0m\u001b[0;34m\u001b[0m\u001b[0m\n\u001b[0;32m---> 50\u001b[0;31m             \u001b[0mans\u001b[0m \u001b[0;34m=\u001b[0m \u001b[0mf_wrapped\u001b[0m\u001b[0;34m(\u001b[0m\u001b[0;34m*\u001b[0m\u001b[0margvals\u001b[0m\u001b[0;34m,\u001b[0m \u001b[0;34m**\u001b[0m\u001b[0mkwargs\u001b[0m\u001b[0;34m)\u001b[0m\u001b[0;34m\u001b[0m\u001b[0;34m\u001b[0m\u001b[0m\n\u001b[0m\u001b[1;32m     51\u001b[0m             \u001b[0mnode\u001b[0m \u001b[0;34m=\u001b[0m \u001b[0mnode_constructor\u001b[0m\u001b[0;34m(\u001b[0m\u001b[0mans\u001b[0m\u001b[0;34m,\u001b[0m \u001b[0mf_wrapped\u001b[0m\u001b[0;34m,\u001b[0m \u001b[0margvals\u001b[0m\u001b[0;34m,\u001b[0m \u001b[0mkwargs\u001b[0m\u001b[0;34m,\u001b[0m \u001b[0margnums\u001b[0m\u001b[0;34m,\u001b[0m \u001b[0mparents\u001b[0m\u001b[0;34m)\u001b[0m\u001b[0;34m\u001b[0m\u001b[0;34m\u001b[0m\u001b[0m\n\u001b[1;32m     52\u001b[0m             \u001b[0;32mreturn\u001b[0m \u001b[0mnew_box\u001b[0m\u001b[0;34m(\u001b[0m\u001b[0mans\u001b[0m\u001b[0;34m,\u001b[0m \u001b[0mtrace\u001b[0m\u001b[0;34m,\u001b[0m \u001b[0mnode\u001b[0m\u001b[0;34m)\u001b[0m\u001b[0;34m\u001b[0m\u001b[0;34m\u001b[0m\u001b[0m\n",
            "\u001b[0;32m/usr/local/lib/python3.12/dist-packages/autograd/tracer.py\u001b[0m in \u001b[0;36mf_wrapped\u001b[0;34m(*args, **kwargs)\u001b[0m\n\u001b[1;32m     52\u001b[0m             \u001b[0;32mreturn\u001b[0m \u001b[0mnew_box\u001b[0m\u001b[0;34m(\u001b[0m\u001b[0mans\u001b[0m\u001b[0;34m,\u001b[0m \u001b[0mtrace\u001b[0m\u001b[0;34m,\u001b[0m \u001b[0mnode\u001b[0m\u001b[0;34m)\u001b[0m\u001b[0;34m\u001b[0m\u001b[0;34m\u001b[0m\u001b[0m\n\u001b[1;32m     53\u001b[0m         \u001b[0;32melse\u001b[0m\u001b[0;34m:\u001b[0m\u001b[0;34m\u001b[0m\u001b[0;34m\u001b[0m\u001b[0m\n\u001b[0;32m---> 54\u001b[0;31m             \u001b[0;32mreturn\u001b[0m \u001b[0mf_raw\u001b[0m\u001b[0;34m(\u001b[0m\u001b[0;34m*\u001b[0m\u001b[0margs\u001b[0m\u001b[0;34m,\u001b[0m \u001b[0;34m**\u001b[0m\u001b[0mkwargs\u001b[0m\u001b[0;34m)\u001b[0m\u001b[0;34m\u001b[0m\u001b[0;34m\u001b[0m\u001b[0m\n\u001b[0m\u001b[1;32m     55\u001b[0m \u001b[0;34m\u001b[0m\u001b[0m\n\u001b[1;32m     56\u001b[0m     \u001b[0mf_wrapped\u001b[0m\u001b[0;34m.\u001b[0m\u001b[0mfun\u001b[0m \u001b[0;34m=\u001b[0m \u001b[0mf_raw\u001b[0m\u001b[0;34m\u001b[0m\u001b[0;34m\u001b[0m\u001b[0m\n",
            "\u001b[0;32m/usr/local/lib/python3.12/dist-packages/pennylane/workflow/interfaces/autograd.py\u001b[0m in \u001b[0;36m_execute\u001b[0;34m(parameters, tapes, execute_fn, jpc)\u001b[0m\n\u001b[1;32m    178\u001b[0m \u001b[0;34m\u001b[0m\u001b[0m\n\u001b[1;32m    179\u001b[0m     \"\"\"\n\u001b[0;32m--> 180\u001b[0;31m     \u001b[0;32mreturn\u001b[0m \u001b[0m_to_autograd\u001b[0m\u001b[0;34m(\u001b[0m\u001b[0mexecute_fn\u001b[0m\u001b[0;34m(\u001b[0m\u001b[0mtapes\u001b[0m\u001b[0;34m)\u001b[0m\u001b[0;34m)\u001b[0m\u001b[0;34m\u001b[0m\u001b[0;34m\u001b[0m\u001b[0m\n\u001b[0m\u001b[1;32m    181\u001b[0m \u001b[0;34m\u001b[0m\u001b[0m\n\u001b[1;32m    182\u001b[0m \u001b[0;34m\u001b[0m\u001b[0m\n",
            "\u001b[0;32m/usr/local/lib/python3.12/dist-packages/pennylane/workflow/jacobian_products.py\u001b[0m in \u001b[0;36mexecute_and_cache_jacobian\u001b[0;34m(self, tapes)\u001b[0m\n\u001b[1;32m    482\u001b[0m         \u001b[0;32mif\u001b[0m \u001b[0mlogger\u001b[0m\u001b[0;34m.\u001b[0m\u001b[0misEnabledFor\u001b[0m\u001b[0;34m(\u001b[0m\u001b[0mlogging\u001b[0m\u001b[0;34m.\u001b[0m\u001b[0mDEBUG\u001b[0m\u001b[0;34m)\u001b[0m\u001b[0;34m:\u001b[0m  \u001b[0;31m# pragma: no cover\u001b[0m\u001b[0;34m\u001b[0m\u001b[0;34m\u001b[0m\u001b[0m\n\u001b[1;32m    483\u001b[0m             \u001b[0mlogger\u001b[0m\u001b[0;34m.\u001b[0m\u001b[0mdebug\u001b[0m\u001b[0;34m(\u001b[0m\u001b[0;34m\"Forward pass called with %s\"\u001b[0m\u001b[0;34m,\u001b[0m \u001b[0mtapes\u001b[0m\u001b[0;34m)\u001b[0m\u001b[0;34m\u001b[0m\u001b[0;34m\u001b[0m\u001b[0m\n\u001b[0;32m--> 484\u001b[0;31m         \u001b[0mresults\u001b[0m\u001b[0;34m,\u001b[0m \u001b[0mjac\u001b[0m \u001b[0;34m=\u001b[0m \u001b[0mself\u001b[0m\u001b[0;34m.\u001b[0m\u001b[0m_dev_execute_and_compute_derivatives\u001b[0m\u001b[0;34m(\u001b[0m\u001b[0mtapes\u001b[0m\u001b[0;34m)\u001b[0m\u001b[0;34m\u001b[0m\u001b[0;34m\u001b[0m\u001b[0m\n\u001b[0m\u001b[1;32m    485\u001b[0m         \u001b[0mself\u001b[0m\u001b[0;34m.\u001b[0m\u001b[0m_results_cache\u001b[0m\u001b[0;34m[\u001b[0m\u001b[0mtapes\u001b[0m\u001b[0;34m]\u001b[0m \u001b[0;34m=\u001b[0m \u001b[0mresults\u001b[0m\u001b[0;34m\u001b[0m\u001b[0;34m\u001b[0m\u001b[0m\n\u001b[1;32m    486\u001b[0m         \u001b[0mself\u001b[0m\u001b[0;34m.\u001b[0m\u001b[0m_jacs_cache\u001b[0m\u001b[0;34m[\u001b[0m\u001b[0mtapes\u001b[0m\u001b[0;34m]\u001b[0m \u001b[0;34m=\u001b[0m \u001b[0mjac\u001b[0m\u001b[0;34m\u001b[0m\u001b[0;34m\u001b[0m\u001b[0m\n",
            "\u001b[0;32m/usr/local/lib/python3.12/dist-packages/pennylane/workflow/jacobian_products.py\u001b[0m in \u001b[0;36m_dev_execute_and_compute_derivatives\u001b[0;34m(self, tapes)\u001b[0m\n\u001b[1;32m    447\u001b[0m         \"\"\"\n\u001b[1;32m    448\u001b[0m         \u001b[0mnumpy_tapes\u001b[0m\u001b[0;34m,\u001b[0m \u001b[0m_\u001b[0m \u001b[0;34m=\u001b[0m \u001b[0mqml\u001b[0m\u001b[0;34m.\u001b[0m\u001b[0mtransforms\u001b[0m\u001b[0;34m.\u001b[0m\u001b[0mconvert_to_numpy_parameters\u001b[0m\u001b[0;34m(\u001b[0m\u001b[0mtapes\u001b[0m\u001b[0;34m)\u001b[0m\u001b[0;34m\u001b[0m\u001b[0;34m\u001b[0m\u001b[0m\n\u001b[0;32m--> 449\u001b[0;31m         \u001b[0;32mreturn\u001b[0m \u001b[0mself\u001b[0m\u001b[0;34m.\u001b[0m\u001b[0m_device\u001b[0m\u001b[0;34m.\u001b[0m\u001b[0mexecute_and_compute_derivatives\u001b[0m\u001b[0;34m(\u001b[0m\u001b[0mnumpy_tapes\u001b[0m\u001b[0;34m,\u001b[0m \u001b[0mself\u001b[0m\u001b[0;34m.\u001b[0m\u001b[0m_execution_config\u001b[0m\u001b[0;34m)\u001b[0m\u001b[0;34m\u001b[0m\u001b[0;34m\u001b[0m\u001b[0m\n\u001b[0m\u001b[1;32m    450\u001b[0m \u001b[0;34m\u001b[0m\u001b[0m\n\u001b[1;32m    451\u001b[0m     \u001b[0;32mdef\u001b[0m \u001b[0m_dev_execute\u001b[0m\u001b[0;34m(\u001b[0m\u001b[0mself\u001b[0m\u001b[0;34m,\u001b[0m \u001b[0mtapes\u001b[0m\u001b[0;34m:\u001b[0m \u001b[0mQuantumScriptBatch\u001b[0m\u001b[0;34m)\u001b[0m\u001b[0;34m:\u001b[0m\u001b[0;34m\u001b[0m\u001b[0;34m\u001b[0m\u001b[0m\n",
            "\u001b[0;32m/usr/local/lib/python3.12/dist-packages/pennylane/devices/modifiers/simulator_tracking.py\u001b[0m in \u001b[0;36mexecute_and_compute_derivatives\u001b[0;34m(self, circuits, execution_config)\u001b[0m\n\u001b[1;32m     95\u001b[0m             )\n\u001b[1;32m     96\u001b[0m             \u001b[0mself\u001b[0m\u001b[0;34m.\u001b[0m\u001b[0mtracker\u001b[0m\u001b[0;34m.\u001b[0m\u001b[0mrecord\u001b[0m\u001b[0;34m(\u001b[0m\u001b[0;34m)\u001b[0m\u001b[0;34m\u001b[0m\u001b[0;34m\u001b[0m\u001b[0m\n\u001b[0;32m---> 97\u001b[0;31m         \u001b[0;32mreturn\u001b[0m \u001b[0muntracked_execute_and_compute_derivatives\u001b[0m\u001b[0;34m(\u001b[0m\u001b[0mself\u001b[0m\u001b[0;34m,\u001b[0m \u001b[0mcircuits\u001b[0m\u001b[0;34m,\u001b[0m \u001b[0mexecution_config\u001b[0m\u001b[0;34m)\u001b[0m\u001b[0;34m\u001b[0m\u001b[0;34m\u001b[0m\u001b[0m\n\u001b[0m\u001b[1;32m     98\u001b[0m \u001b[0;34m\u001b[0m\u001b[0m\n\u001b[1;32m     99\u001b[0m     \u001b[0;32mreturn\u001b[0m \u001b[0mexecute_and_compute_derivatives\u001b[0m\u001b[0;34m\u001b[0m\u001b[0;34m\u001b[0m\u001b[0m\n",
            "\u001b[0;32m/usr/local/lib/python3.12/dist-packages/pennylane/devices/modifiers/single_tape_support.py\u001b[0m in \u001b[0;36mexecute_and_compute_derivatives\u001b[0;34m(self, circuits, execution_config)\u001b[0m\n\u001b[1;32m     60\u001b[0m             \u001b[0mis_single_circuit\u001b[0m \u001b[0;34m=\u001b[0m \u001b[0;32mTrue\u001b[0m\u001b[0;34m\u001b[0m\u001b[0;34m\u001b[0m\u001b[0m\n\u001b[1;32m     61\u001b[0m             \u001b[0mcircuits\u001b[0m \u001b[0;34m=\u001b[0m \u001b[0;34m(\u001b[0m\u001b[0mcircuits\u001b[0m\u001b[0;34m,\u001b[0m\u001b[0;34m)\u001b[0m\u001b[0;34m\u001b[0m\u001b[0;34m\u001b[0m\u001b[0m\n\u001b[0;32m---> 62\u001b[0;31m         \u001b[0mresults\u001b[0m\u001b[0;34m,\u001b[0m \u001b[0mjacs\u001b[0m \u001b[0;34m=\u001b[0m \u001b[0mbatch_execute_and_compute_derivatives\u001b[0m\u001b[0;34m(\u001b[0m\u001b[0mself\u001b[0m\u001b[0;34m,\u001b[0m \u001b[0mcircuits\u001b[0m\u001b[0;34m,\u001b[0m \u001b[0mexecution_config\u001b[0m\u001b[0;34m)\u001b[0m\u001b[0;34m\u001b[0m\u001b[0;34m\u001b[0m\u001b[0m\n\u001b[0m\u001b[1;32m     63\u001b[0m         \u001b[0;32mreturn\u001b[0m \u001b[0;34m(\u001b[0m\u001b[0mresults\u001b[0m\u001b[0;34m[\u001b[0m\u001b[0;36m0\u001b[0m\u001b[0;34m]\u001b[0m\u001b[0;34m,\u001b[0m \u001b[0mjacs\u001b[0m\u001b[0;34m[\u001b[0m\u001b[0;36m0\u001b[0m\u001b[0;34m]\u001b[0m\u001b[0;34m)\u001b[0m \u001b[0;32mif\u001b[0m \u001b[0mis_single_circuit\u001b[0m \u001b[0;32melse\u001b[0m \u001b[0;34m(\u001b[0m\u001b[0mresults\u001b[0m\u001b[0;34m,\u001b[0m \u001b[0mjacs\u001b[0m\u001b[0;34m)\u001b[0m\u001b[0;34m\u001b[0m\u001b[0;34m\u001b[0m\u001b[0m\n\u001b[1;32m     64\u001b[0m \u001b[0;34m\u001b[0m\u001b[0m\n",
            "\u001b[0;32m/usr/local/lib/python3.12/dist-packages/pennylane/devices/modifiers/simulator_tracking.py\u001b[0m in \u001b[0;36mexecute_and_compute_derivatives\u001b[0;34m(self, circuits, execution_config)\u001b[0m\n\u001b[1;32m     95\u001b[0m             )\n\u001b[1;32m     96\u001b[0m             \u001b[0mself\u001b[0m\u001b[0;34m.\u001b[0m\u001b[0mtracker\u001b[0m\u001b[0;34m.\u001b[0m\u001b[0mrecord\u001b[0m\u001b[0;34m(\u001b[0m\u001b[0;34m)\u001b[0m\u001b[0;34m\u001b[0m\u001b[0;34m\u001b[0m\u001b[0m\n\u001b[0;32m---> 97\u001b[0;31m         \u001b[0;32mreturn\u001b[0m \u001b[0muntracked_execute_and_compute_derivatives\u001b[0m\u001b[0;34m(\u001b[0m\u001b[0mself\u001b[0m\u001b[0;34m,\u001b[0m \u001b[0mcircuits\u001b[0m\u001b[0;34m,\u001b[0m \u001b[0mexecution_config\u001b[0m\u001b[0;34m)\u001b[0m\u001b[0;34m\u001b[0m\u001b[0;34m\u001b[0m\u001b[0m\n\u001b[0m\u001b[1;32m     98\u001b[0m \u001b[0;34m\u001b[0m\u001b[0m\n\u001b[1;32m     99\u001b[0m     \u001b[0;32mreturn\u001b[0m \u001b[0mexecute_and_compute_derivatives\u001b[0m\u001b[0;34m\u001b[0m\u001b[0;34m\u001b[0m\u001b[0m\n",
            "\u001b[0;32m/usr/local/lib/python3.12/dist-packages/pennylane/devices/modifiers/single_tape_support.py\u001b[0m in \u001b[0;36mexecute_and_compute_derivatives\u001b[0;34m(self, circuits, execution_config)\u001b[0m\n\u001b[1;32m     60\u001b[0m             \u001b[0mis_single_circuit\u001b[0m \u001b[0;34m=\u001b[0m \u001b[0;32mTrue\u001b[0m\u001b[0;34m\u001b[0m\u001b[0;34m\u001b[0m\u001b[0m\n\u001b[1;32m     61\u001b[0m             \u001b[0mcircuits\u001b[0m \u001b[0;34m=\u001b[0m \u001b[0;34m(\u001b[0m\u001b[0mcircuits\u001b[0m\u001b[0;34m,\u001b[0m\u001b[0;34m)\u001b[0m\u001b[0;34m\u001b[0m\u001b[0;34m\u001b[0m\u001b[0m\n\u001b[0;32m---> 62\u001b[0;31m         \u001b[0mresults\u001b[0m\u001b[0;34m,\u001b[0m \u001b[0mjacs\u001b[0m \u001b[0;34m=\u001b[0m \u001b[0mbatch_execute_and_compute_derivatives\u001b[0m\u001b[0;34m(\u001b[0m\u001b[0mself\u001b[0m\u001b[0;34m,\u001b[0m \u001b[0mcircuits\u001b[0m\u001b[0;34m,\u001b[0m \u001b[0mexecution_config\u001b[0m\u001b[0;34m)\u001b[0m\u001b[0;34m\u001b[0m\u001b[0;34m\u001b[0m\u001b[0m\n\u001b[0m\u001b[1;32m     63\u001b[0m         \u001b[0;32mreturn\u001b[0m \u001b[0;34m(\u001b[0m\u001b[0mresults\u001b[0m\u001b[0;34m[\u001b[0m\u001b[0;36m0\u001b[0m\u001b[0;34m]\u001b[0m\u001b[0;34m,\u001b[0m \u001b[0mjacs\u001b[0m\u001b[0;34m[\u001b[0m\u001b[0;36m0\u001b[0m\u001b[0;34m]\u001b[0m\u001b[0;34m)\u001b[0m \u001b[0;32mif\u001b[0m \u001b[0mis_single_circuit\u001b[0m \u001b[0;32melse\u001b[0m \u001b[0;34m(\u001b[0m\u001b[0mresults\u001b[0m\u001b[0;34m,\u001b[0m \u001b[0mjacs\u001b[0m\u001b[0;34m)\u001b[0m\u001b[0;34m\u001b[0m\u001b[0;34m\u001b[0m\u001b[0m\n\u001b[1;32m     64\u001b[0m \u001b[0;34m\u001b[0m\u001b[0m\n",
            "\u001b[0;32m/usr/local/lib/python3.12/dist-packages/pennylane_lightning/lightning_base/lightning_base.py\u001b[0m in \u001b[0;36mexecute_and_compute_derivatives\u001b[0;34m(self, circuits, execution_config)\u001b[0m\n\u001b[1;32m    421\u001b[0m \u001b[0;34m\u001b[0m\u001b[0m\n\u001b[1;32m    422\u001b[0m         \u001b[0mbatch_obs\u001b[0m \u001b[0;34m=\u001b[0m \u001b[0mexecution_config\u001b[0m\u001b[0;34m.\u001b[0m\u001b[0mdevice_options\u001b[0m\u001b[0;34m.\u001b[0m\u001b[0mget\u001b[0m\u001b[0;34m(\u001b[0m\u001b[0;34m\"batch_obs\"\u001b[0m\u001b[0;34m,\u001b[0m \u001b[0mself\u001b[0m\u001b[0;34m.\u001b[0m\u001b[0m_batch_obs\u001b[0m\u001b[0;34m)\u001b[0m\u001b[0;34m\u001b[0m\u001b[0;34m\u001b[0m\u001b[0m\n\u001b[0;32m--> 423\u001b[0;31m         results = tuple(\n\u001b[0m\u001b[1;32m    424\u001b[0m             self.simulate_and_jacobian(\n\u001b[1;32m    425\u001b[0m                 \u001b[0mself\u001b[0m\u001b[0;34m.\u001b[0m\u001b[0mdynamic_wires_from_circuit\u001b[0m\u001b[0;34m(\u001b[0m\u001b[0mcircuit\u001b[0m\u001b[0;34m)\u001b[0m\u001b[0;34m,\u001b[0m\u001b[0;34m\u001b[0m\u001b[0;34m\u001b[0m\u001b[0m\n",
            "\u001b[0;32m/usr/local/lib/python3.12/dist-packages/pennylane_lightning/lightning_base/lightning_base.py\u001b[0m in \u001b[0;36m<genexpr>\u001b[0;34m(.0)\u001b[0m\n\u001b[1;32m    422\u001b[0m         \u001b[0mbatch_obs\u001b[0m \u001b[0;34m=\u001b[0m \u001b[0mexecution_config\u001b[0m\u001b[0;34m.\u001b[0m\u001b[0mdevice_options\u001b[0m\u001b[0;34m.\u001b[0m\u001b[0mget\u001b[0m\u001b[0;34m(\u001b[0m\u001b[0;34m\"batch_obs\"\u001b[0m\u001b[0;34m,\u001b[0m \u001b[0mself\u001b[0m\u001b[0;34m.\u001b[0m\u001b[0m_batch_obs\u001b[0m\u001b[0;34m)\u001b[0m\u001b[0;34m\u001b[0m\u001b[0;34m\u001b[0m\u001b[0m\n\u001b[1;32m    423\u001b[0m         results = tuple(\n\u001b[0;32m--> 424\u001b[0;31m             self.simulate_and_jacobian(\n\u001b[0m\u001b[1;32m    425\u001b[0m                 \u001b[0mself\u001b[0m\u001b[0;34m.\u001b[0m\u001b[0mdynamic_wires_from_circuit\u001b[0m\u001b[0;34m(\u001b[0m\u001b[0mcircuit\u001b[0m\u001b[0;34m)\u001b[0m\u001b[0;34m,\u001b[0m\u001b[0;34m\u001b[0m\u001b[0;34m\u001b[0m\u001b[0m\n\u001b[1;32m    426\u001b[0m                 \u001b[0mself\u001b[0m\u001b[0;34m.\u001b[0m\u001b[0m_statevector\u001b[0m\u001b[0;34m,\u001b[0m\u001b[0;34m\u001b[0m\u001b[0;34m\u001b[0m\u001b[0m\n",
            "\u001b[0;32m/usr/local/lib/python3.12/dist-packages/pennylane_lightning/lightning_base/lightning_base.py\u001b[0m in \u001b[0;36msimulate_and_jacobian\u001b[0;34m(self, circuit, state, batch_obs, wire_map)\u001b[0m\n\u001b[1;32m    306\u001b[0m         \u001b[0mres\u001b[0m \u001b[0;34m=\u001b[0m \u001b[0mself\u001b[0m\u001b[0;34m.\u001b[0m\u001b[0msimulate\u001b[0m\u001b[0;34m(\u001b[0m\u001b[0mcircuit\u001b[0m\u001b[0;34m,\u001b[0m \u001b[0mstate\u001b[0m\u001b[0;34m)\u001b[0m\u001b[0;34m\u001b[0m\u001b[0;34m\u001b[0m\u001b[0m\n\u001b[1;32m    307\u001b[0m         \u001b[0;31m# pylint: disable=not-callable\u001b[0m\u001b[0;34m\u001b[0m\u001b[0;34m\u001b[0m\u001b[0m\n\u001b[0;32m--> 308\u001b[0;31m         \u001b[0mjac\u001b[0m \u001b[0;34m=\u001b[0m \u001b[0mself\u001b[0m\u001b[0;34m.\u001b[0m\u001b[0mLightningAdjointJacobian\u001b[0m\u001b[0;34m(\u001b[0m\u001b[0mstate\u001b[0m\u001b[0;34m,\u001b[0m \u001b[0mbatch_obs\u001b[0m\u001b[0;34m=\u001b[0m\u001b[0mbatch_obs\u001b[0m\u001b[0;34m)\u001b[0m\u001b[0;34m.\u001b[0m\u001b[0mcalculate_jacobian\u001b[0m\u001b[0;34m(\u001b[0m\u001b[0mcircuit\u001b[0m\u001b[0;34m)\u001b[0m\u001b[0;34m\u001b[0m\u001b[0;34m\u001b[0m\u001b[0m\n\u001b[0m\u001b[1;32m    309\u001b[0m         \u001b[0;32mreturn\u001b[0m \u001b[0mres\u001b[0m\u001b[0;34m,\u001b[0m \u001b[0mjac\u001b[0m\u001b[0;34m\u001b[0m\u001b[0;34m\u001b[0m\u001b[0m\n\u001b[1;32m    310\u001b[0m \u001b[0;34m\u001b[0m\u001b[0m\n",
            "\u001b[0;32m/usr/local/lib/python3.12/dist-packages/pennylane_lightning/lightning_gpu/_adjoint_jacobian.py\u001b[0m in \u001b[0;36mcalculate_jacobian\u001b[0;34m(self, tape)\u001b[0m\n\u001b[1;32m    159\u001b[0m             )\n\u001b[1;32m    160\u001b[0m         \u001b[0;32melse\u001b[0m\u001b[0;34m:\u001b[0m\u001b[0;34m\u001b[0m\u001b[0;34m\u001b[0m\u001b[0m\n\u001b[0;32m--> 161\u001b[0;31m             jac = self._jacobian_lightning(\n\u001b[0m\u001b[1;32m    162\u001b[0m                 \u001b[0mprocessed_data\u001b[0m\u001b[0;34m[\u001b[0m\u001b[0;34m\"state_vector\"\u001b[0m\u001b[0;34m]\u001b[0m\u001b[0;34m,\u001b[0m\u001b[0;34m\u001b[0m\u001b[0;34m\u001b[0m\u001b[0m\n\u001b[1;32m    163\u001b[0m                 \u001b[0mprocessed_data\u001b[0m\u001b[0;34m[\u001b[0m\u001b[0;34m\"obs_serialized\"\u001b[0m\u001b[0;34m]\u001b[0m\u001b[0;34m,\u001b[0m\u001b[0;34m\u001b[0m\u001b[0;34m\u001b[0m\u001b[0m\n",
            "\u001b[0;31mKeyboardInterrupt\u001b[0m: "
          ]
        }
      ],
      "source": [
        "# Create and run trainer\n",
        "trainer = AdaptiveQNNTrainer()\n",
        "trainer.run()"
      ]
    },
    {
      "cell_type": "markdown",
      "metadata": {
        "id": "gHpe5sneRpES"
      },
      "source": [
        "## Download Results"
      ]
    },
    {
      "cell_type": "code",
      "execution_count": null,
      "metadata": {
        "id": "nLIHQp-qRpET"
      },
      "outputs": [],
      "source": [
        "if IN_COLAB:\n",
        "    from google.colab import files\n",
        "    import shutil\n",
        "\n",
        "    # Zip results\n",
        "    shutil.make_archive('10_qubits_results', 'zip', config.OUTPUT_DIR)\n",
        "\n",
        "    print(\"Downloading results...\")\n",
        "    files.download('10_qubits_results.zip')\n",
        "    print(\"✓ Download complete!\")\n",
        "else:\n",
        "    print(\"Not running on Colab - results saved locally\")"
      ]
    }
  ],
  "metadata": {
    "accelerator": "GPU",
    "colab": {
      "gpuType": "A100",
      "provenance": [],
      "toc_visible": true
    },
    "kernelspec": {
      "display_name": "Python 3",
      "name": "python3"
    }
  },
  "nbformat": 4,
  "nbformat_minor": 0
}