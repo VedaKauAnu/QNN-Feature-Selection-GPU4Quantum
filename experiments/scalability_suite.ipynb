{
  "cells": [
    {
      "cell_type": "markdown",
      "metadata": {
        "id": "2ZO0jcwlGwQE"
      },
      "source": [
        "# Adaptive QNN Scalability Suite"
      ]
    },
    {
      "cell_type": "markdown",
      "metadata": {
        "id": "NmMiLFGwGwQJ"
      },
      "source": [
        "## 1. Setup & Installation"
      ]
    },
    {
      "cell_type": "code",
      "execution_count": null,
      "metadata": {
        "id": "A5Y922ySGwQJ"
      },
      "outputs": [],
      "source": [
        "# Check GPU availability\n",
        "!nvidia-smi\n",
        "\n",
        "# Install quantum computing packages\n",
        "!pip install -q pennylane pennylane-lightning-gpu\n",
        "!pip install -q scikit-learn matplotlib seaborn\n",
        "\n",
        "print(\"\\n Installation complete!\")"
      ]
    },
    {
      "cell_type": "code",
      "execution_count": null,
      "metadata": {
        "id": "0fMkXVyfGwQM"
      },
      "outputs": [],
      "source": [
        "import pennylane as qml\n",
        "import numpy as np\n",
        "\n",
        "try:\n",
        "    dev = qml.device('lightning.gpu', wires=4)\n",
        "    print(\" GPU-accelerated quantum simulation available!\")\n",
        "except:\n",
        "    print(\"GPU not available, will use CPU\")\n",
        "    dev = qml.device('default.qubit', wires=4)\n",
        "\n",
        "print(f\"Device: {dev}\")"
      ]
    },
    {
      "cell_type": "markdown",
      "metadata": {
        "id": "ftWkjiJZGwQM"
      },
      "source": [
        "## 2. Upload Project Files\n",
        "\n",
        "**Option A:** Upload directly"
      ]
    },
    {
      "cell_type": "code",
      "execution_count": null,
      "metadata": {
        "id": "FiI6Z5kSGwQN"
      },
      "outputs": [],
      "source": [
        "from google.colab import files\n",
        "import os\n",
        "\n",
        "# Create directories\n",
        "os.makedirs('src', exist_ok=True)\n",
        "os.makedirs('experiments', exist_ok=True)\n",
        "os.makedirs('results/scalability', exist_ok=True)\n",
        "\n",
        "print(\"Upload your Python files:\")\n",
        "print(\"  - noisy_10q_experiment.py (to experiments/)\")\n",
        "print(\"  - Any other dependencies\")\n",
        "print(\"\\nOr skip if using Option B (GitHub)\")"
      ]
    },
    {
      "cell_type": "markdown",
      "metadata": {
        "id": "ZMSIShtwGwQO"
      },
      "source": [
        "## 3. Scalability Suite Code"
      ]
    },
    {
      "cell_type": "code",
      "execution_count": null,
      "metadata": {
        "id": "2Y8fiaRoGwQO"
      },
      "outputs": [],
      "source": [
        "import numpy as np\n",
        "import matplotlib.pyplot as plt\n",
        "import seaborn as sns\n",
        "from datetime import datetime\n",
        "import time\n",
        "import json\n",
        "from pathlib import Path\n",
        "from sklearn.datasets import load_wine, load_iris\n",
        "from sklearn.model_selection import train_test_split\n",
        "from sklearn.preprocessing import StandardScaler\n",
        "from sklearn.decomposition import PCA\n",
        "import warnings\n",
        "warnings.filterwarnings('ignore')\n",
        "\n",
        "# Set plotting style\n",
        "sns.set_style('whitegrid')\n",
        "plt.rcParams['figure.dpi'] = 100"
      ]
    },
    {
      "cell_type": "code",
      "execution_count": null,
      "metadata": {
        "id": "4bSp7UDwGwQP"
      },
      "outputs": [],
      "source": [
        "# Configuration\n",
        "class ScalabilityConfig:\n",
        "    # UPDATED: Added 16 qubits\n",
        "    QUBIT_COUNTS = [4, 6, 8, 10, 12, 16]\n",
        "\n",
        "    NOISE_LEVELS = {\n",
        "        'none': {\n",
        "            'single_qubit_error': 0.0,\n",
        "            'two_qubit_error': 0.0,\n",
        "            'measurement_error': 0.0,\n",
        "            'description': 'No noise (ideal)'\n",
        "        },\n",
        "        'low': {\n",
        "            'single_qubit_error': 0.0005,\n",
        "            'two_qubit_error': 0.001,\n",
        "            'measurement_error': 0.001,\n",
        "            'description': 'Low noise'\n",
        "        },\n",
        "        'realistic': {\n",
        "            'single_qubit_error': 0.01,\n",
        "            'two_qubit_error': 0.015,\n",
        "            'measurement_error': 0.02,\n",
        "            'description': 'Realistic NISQ'\n",
        "        },\n",
        "        'high': {\n",
        "            'single_qubit_error': 0.02,\n",
        "            'two_qubit_error': 0.03,\n",
        "            'measurement_error': 0.04,\n",
        "            'description': 'High noise'\n",
        "        }\n",
        "    }\n",
        "\n",
        "    N_EPOCHS = 30\n",
        "    N_TRIALS = 3\n",
        "    DATASET = 'wine'\n",
        "    OUTPUT_DIR = Path('results/scalability')\n",
        "\n",
        "    # GPU support\n",
        "    USE_GPU = True\n",
        "\n",
        "config = ScalabilityConfig()\n",
        "config.OUTPUT_DIR.mkdir(parents=True, exist_ok=True)\n",
        "\n",
        "print(f\"Configuration:\")\n",
        "print(f\"  Qubit counts: {config.QUBIT_COUNTS}\")\n",
        "print(f\"  Epochs per trial: {config.N_EPOCHS}\")\n",
        "print(f\"  Trials per config: {config.N_TRIALS}\")\n",
        "print(f\"  Dataset: {config.DATASET}\")\n",
        "print(f\"  GPU: {config.USE_GPU}\")"
      ]
    },
    {
      "cell_type": "code",
      "execution_count": null,
      "metadata": {
        "id": "tiTjoRzAGwQP"
      },
      "outputs": [],
      "source": [
        "# Helper Classes\n",
        "class FeatureSelector:\n",
        "    @staticmethod\n",
        "    def pca(X_train, X_test, n_components):\n",
        "        pca = PCA(n_components=n_components)\n",
        "        X_train_red = pca.fit_transform(X_train)\n",
        "        X_test_red = pca.transform(X_test)\n",
        "        return X_train_red, X_test_red\n",
        "\n",
        "class DataLoader:\n",
        "    @staticmethod\n",
        "    def load_dataset(name='wine'):\n",
        "        if name == 'wine':\n",
        "            data = load_wine()\n",
        "        elif name == 'iris':\n",
        "            data = load_iris()\n",
        "        else:\n",
        "            raise ValueError(f\"Unknown dataset: {name}\")\n",
        "\n",
        "        X, y = data.data, data.target\n",
        "        # Binary classification\n",
        "        mask = y < 2\n",
        "        X, y = X[mask], y[mask]\n",
        "        return X, y, data.feature_names\n",
        "\n",
        "print(\"✓ Helper classes defined\")"
      ]
    },
    {
      "cell_type": "code",
      "execution_count": null,
      "metadata": {
        "id": "WJR5LJfwGwQQ"
      },
      "outputs": [],
      "source": [
        "# Noisy Quantum Neural Network\n",
        "class NoisyQuantumNeuralNetwork:\n",
        "    def __init__(self, n_qubits, n_layers, encoding_method='angle', noise_params=None):\n",
        "        self.n_qubits = n_qubits\n",
        "        self.n_layers = n_layers\n",
        "        self.encoding_method = encoding_method\n",
        "        self.noise_params = noise_params or {'single_qubit_error': 0, 'two_qubit_error': 0, 'measurement_error': 0}\n",
        "\n",
        "        # Device selection\n",
        "        if config.USE_GPU:\n",
        "            try:\n",
        "                self.dev = qml.device('lightning.gpu', wires=n_qubits)\n",
        "                print(f\"  Using GPU for {n_qubits} qubits\")\n",
        "            except:\n",
        "                self.dev = qml.device('default.qubit', wires=n_qubits)\n",
        "                print(f\"  GPU unavailable, using CPU for {n_qubits} qubits\")\n",
        "        else:\n",
        "            self.dev = qml.device('default.qubit', wires=n_qubits)\n",
        "\n",
        "        # Parameters\n",
        "        self.n_params = n_layers * n_qubits * 3\n",
        "        self.params = np.random.randn(self.n_params) * 0.1\n",
        "\n",
        "        # Circuit metrics\n",
        "        self.gate_count = 0\n",
        "        self.circuit_depth = 0\n",
        "\n",
        "        # Create circuit\n",
        "        self.qnode = qml.QNode(self._circuit, self.dev)\n",
        "\n",
        "    def _circuit(self, features, params):\n",
        "        wires = range(self.n_qubits)\n",
        "\n",
        "        # Encoding\n",
        "        if self.encoding_method == 'angle':\n",
        "            for i in range(min(len(features), self.n_qubits)):\n",
        "                qml.RY(features[i], wires=i)\n",
        "                self.gate_count += 1\n",
        "        elif self.encoding_method == 'amplitude':\n",
        "            n_amplitudes = 2 ** self.n_qubits\n",
        "            padded = np.zeros(n_amplitudes)\n",
        "            padded[:len(features)] = features\n",
        "            normalized = padded / np.linalg.norm(padded)\n",
        "            qml.AmplitudeEmbedding(normalized, wires=wires, normalize=True)\n",
        "            self.gate_count += 1\n",
        "\n",
        "        # Parameterized layers with noise\n",
        "        for layer in range(self.n_layers):\n",
        "            for i in range(self.n_qubits):\n",
        "                idx = layer * self.n_qubits * 3 + i * 3\n",
        "                qml.RX(params[idx], wires=i)\n",
        "                qml.RY(params[idx + 1], wires=i)\n",
        "                qml.RZ(params[idx + 2], wires=i)\n",
        "                self.gate_count += 3\n",
        "\n",
        "                # Apply noise after single-qubit gates\n",
        "                if self.noise_params['single_qubit_error'] > 0:\n",
        "                    qml.DepolarizingChannel(self.noise_params['single_qubit_error'], wires=i)\n",
        "\n",
        "            # Entangling layer\n",
        "            for i in range(self.n_qubits):\n",
        "                qml.CNOT(wires=[i, (i + 1) % self.n_qubits])\n",
        "                self.gate_count += 1\n",
        "\n",
        "                # Apply noise after two-qubit gates\n",
        "                if self.noise_params['two_qubit_error'] > 0:\n",
        "                    qml.DepolarizingChannel(self.noise_params['two_qubit_error'], wires=i)\n",
        "                    qml.DepolarizingChannel(self.noise_params['two_qubit_error'], wires=(i + 1) % self.n_qubits)\n",
        "\n",
        "        self.circuit_depth = self.n_layers * 4 + 1\n",
        "\n",
        "        # Measurement with noise\n",
        "        if self.noise_params['measurement_error'] > 0:\n",
        "            qml.DepolarizingChannel(self.noise_params['measurement_error'], wires=0)\n",
        "\n",
        "        return qml.expval(qml.PauliZ(0))\n",
        "\n",
        "    def predict_single(self, features):\n",
        "        output = self.qnode(features, self.params)\n",
        "        return 1 if output > 0 else 0\n",
        "\n",
        "    def predict_batch(self, X):\n",
        "        return np.array([self.predict_single(x) for x in X])\n",
        "\n",
        "    def train_step(self, X_batch, y_batch, learning_rate):\n",
        "        def loss_fn(params):\n",
        "            self.params = params\n",
        "            predictions = np.array([self.qnode(x, params) for x in X_batch])\n",
        "            targets = 2 * y_batch - 1\n",
        "            return np.mean((predictions - targets) ** 2)\n",
        "\n",
        "        grad_fn = qml.grad(loss_fn)\n",
        "        gradients = grad_fn(self.params)\n",
        "        self.params -= learning_rate * gradients\n",
        "\n",
        "print(\"✓ Noisy QNN class defined\")"
      ]
    },
    {
      "cell_type": "markdown",
      "metadata": {
        "id": "AZSUov8mGwQR"
      },
      "source": [
        "## 4. Run Scalability Experiments"
      ]
    },
    {
      "cell_type": "code",
      "execution_count": null,
      "metadata": {
        "id": "dCocLYQWGwQR"
      },
      "outputs": [],
      "source": [
        "def run_scalability_experiment(n_qubits, noise_level_name, trial=1):\n",
        "    \"\"\"Run single scalability experiment\"\"\"\n",
        "    print(f\"  Trial {trial}: {n_qubits} qubits, {noise_level_name} noise\")\n",
        "\n",
        "    noise_params = config.NOISE_LEVELS[noise_level_name]\n",
        "\n",
        "    # Load and prepare data\n",
        "    X, y, _ = DataLoader.load_dataset(config.DATASET)\n",
        "    X_train, X_test, y_train, y_test = train_test_split(\n",
        "        X, y, test_size=0.3, random_state=42 + trial\n",
        "    )\n",
        "\n",
        "    scaler = StandardScaler()\n",
        "    X_train = scaler.fit_transform(X_train)\n",
        "    X_test = scaler.transform(X_test)\n",
        "\n",
        "    # Feature selection\n",
        "    X_train_red, X_test_red = FeatureSelector.pca(X_train, X_test, n_qubits)\n",
        "\n",
        "    # Create and train QNN\n",
        "    qnn = NoisyQuantumNeuralNetwork(\n",
        "        n_qubits=n_qubits,\n",
        "        n_layers=2,\n",
        "        encoding_method='angle',\n",
        "        noise_params=noise_params\n",
        "    )\n",
        "\n",
        "    # Training loop\n",
        "    learning_rate = 0.01\n",
        "    batch_size = 16\n",
        "\n",
        "    for epoch in range(config.N_EPOCHS):\n",
        "        n_samples = len(X_train_red)\n",
        "        indices = np.random.permutation(n_samples)\n",
        "\n",
        "        for i in range(0, n_samples, batch_size):\n",
        "            batch_idx = indices[i:i+batch_size]\n",
        "            qnn.train_step(X_train_red[batch_idx], y_train[batch_idx], learning_rate)\n",
        "\n",
        "    # Evaluation\n",
        "    train_pred = qnn.predict_batch(X_train_red)\n",
        "    train_acc = np.mean(train_pred == y_train)\n",
        "\n",
        "    val_pred = qnn.predict_batch(X_test_red)\n",
        "    val_acc = np.mean(val_pred == y_test)\n",
        "\n",
        "    result = {\n",
        "        'n_qubits': n_qubits,\n",
        "        'noise_level': noise_level_name,\n",
        "        'trial': trial,\n",
        "        'train_acc': float(train_acc),\n",
        "        'val_acc': float(val_acc),\n",
        "        'gate_count': qnn.gate_count,\n",
        "        'circuit_depth': qnn.circuit_depth,\n",
        "        'noise_params': noise_params\n",
        "    }\n",
        "\n",
        "    print(f\"    Val Acc: {val_acc:.4f}, Gates: {qnn.gate_count}, Depth: {qnn.circuit_depth}\")\n",
        "\n",
        "    return result\n",
        "\n",
        "print(\"✓ Experiment function defined\")"
      ]
    },
    {
      "cell_type": "code",
      "execution_count": null,
      "metadata": {
        "id": "KqF5xvA1GwQS"
      },
      "outputs": [],
      "source": [
        "# Run all experiments\n",
        "print(\"=\"*70)\n",
        "print(\"STARTING SCALABILITY SUITE\")\n",
        "print(\"=\"*70)\n",
        "\n",
        "all_results = []\n",
        "total_experiments = len(config.QUBIT_COUNTS) * len(config.NOISE_LEVELS) * config.N_TRIALS\n",
        "experiment_count = 0\n",
        "start_time = time.time()\n",
        "\n",
        "print(f\"\\nTotal experiments: {total_experiments}\")\n",
        "print(f\"Estimated time: {total_experiments * 2:.0f}-{total_experiments * 4:.0f} minutes\\n\")\n",
        "\n",
        "for n_qubits in config.QUBIT_COUNTS:\n",
        "    print(f\"\\n{'─'*70}\")\n",
        "    print(f\"Testing {n_qubits} qubits\")\n",
        "    print(f\"{'─'*70}\")\n",
        "\n",
        "    for noise_name in config.NOISE_LEVELS.keys():\n",
        "        print(f\"\\n  Noise level: {noise_name}\")\n",
        "\n",
        "        for trial in range(1, config.N_TRIALS + 1):\n",
        "            result = run_scalability_experiment(n_qubits, noise_name, trial)\n",
        "            all_results.append(result)\n",
        "\n",
        "            experiment_count += 1\n",
        "            elapsed = time.time() - start_time\n",
        "            avg_time = elapsed / experiment_count\n",
        "            remaining = (total_experiments - experiment_count) * avg_time\n",
        "\n",
        "            print(f\"    Progress: {experiment_count}/{total_experiments} \"\n",
        "                  f\"({experiment_count/total_experiments*100:.1f}%) - \"\n",
        "                  f\"ETA: {remaining/60:.1f} min\")\n",
        "\n",
        "total_time = time.time() - start_time\n",
        "print(f\"\\n{'='*70}\")\n",
        "print(f\"✓ ALL EXPERIMENTS COMPLETE\")\n",
        "print(f\"{'='*70}\")\n",
        "print(f\"Total time: {total_time/60:.1f} minutes\")\n",
        "print(f\"Average per experiment: {total_time/total_experiments:.1f} seconds\")"
      ]
    },
    {
      "cell_type": "markdown",
      "metadata": {
        "id": "n9E5_5dnGwQS"
      },
      "source": [
        "## 5. Save Results"
      ]
    },
    {
      "cell_type": "code",
      "execution_count": null,
      "metadata": {
        "id": "1oLtO9OrGwQT"
      },
      "outputs": [],
      "source": [
        "# Save to JSON\n",
        "filename = config.OUTPUT_DIR / f'scalability_results_{datetime.now().strftime(\"%Y%m%d_%H%M%S\")}.json'\n",
        "with open(filename, 'w') as f:\n",
        "    json.dump(all_results, f, indent=2)\n",
        "\n",
        "print(f\"✓ Results saved: {filename}\")\n",
        "\n",
        "# Summary statistics\n",
        "print(f\"\\n{'='*70}\")\n",
        "print(\"SUMMARY STATISTICS\")\n",
        "print(f\"{'='*70}\")\n",
        "\n",
        "for n_qubits in config.QUBIT_COUNTS:\n",
        "    print(f\"\\n{n_qubits} Qubits:\")\n",
        "    for noise in ['none', 'realistic']:\n",
        "        results = [r for r in all_results if r['n_qubits'] == n_qubits and r['noise_level'] == noise]\n",
        "        if results:\n",
        "            mean_acc = np.mean([r['val_acc'] for r in results])\n",
        "            std_acc = np.std([r['val_acc'] for r in results])\n",
        "            print(f\"  {noise:12s}: {mean_acc:.4f} ± {std_acc:.4f}\")"
      ]
    },
    {
      "cell_type": "markdown",
      "metadata": {
        "id": "cSErzp8fGwQT"
      },
      "source": [
        "## 6. Visualizations"
      ]
    },
    {
      "cell_type": "code",
      "execution_count": null,
      "metadata": {
        "id": "DT3daiubGwQT"
      },
      "outputs": [],
      "source": [
        "# Plot 1: Performance vs Qubit Count\n",
        "fig, axes = plt.subplots(1, 2, figsize=(15, 5))\n",
        "\n",
        "# No noise\n",
        "ax = axes[0]\n",
        "noise_free = [r for r in all_results if r['noise_level'] == 'none']\n",
        "qubits = sorted(set(r['n_qubits'] for r in noise_free))\n",
        "accs = [np.mean([r['val_acc'] for r in noise_free if r['n_qubits'] == q]) for q in qubits]\n",
        "stds = [np.std([r['val_acc'] for r in noise_free if r['n_qubits'] == q]) for q in qubits]\n",
        "\n",
        "ax.errorbar(qubits, accs, yerr=stds, marker='o', linewidth=2, markersize=8, capsize=5)\n",
        "ax.set_xlabel('Number of Qubits', fontsize=12)\n",
        "ax.set_ylabel('Validation Accuracy', fontsize=12)\n",
        "ax.set_title('Performance Scaling (No Noise)', fontsize=14, fontweight='bold')\n",
        "ax.grid(alpha=0.3)\n",
        "ax.set_ylim([0, 1])\n",
        "\n",
        "# Realistic noise\n",
        "ax = axes[1]\n",
        "realistic = [r for r in all_results if r['noise_level'] == 'realistic']\n",
        "accs = [np.mean([r['val_acc'] for r in realistic if r['n_qubits'] == q]) for q in qubits]\n",
        "stds = [np.std([r['val_acc'] for r in realistic if r['n_qubits'] == q]) for q in qubits]\n",
        "\n",
        "ax.errorbar(qubits, accs, yerr=stds, marker='o', linewidth=2, markersize=8, capsize=5, color='orange')\n",
        "ax.set_xlabel('Number of Qubits', fontsize=12)\n",
        "ax.set_ylabel('Validation Accuracy', fontsize=12)\n",
        "ax.set_title('Performance Scaling (Realistic Noise)', fontsize=14, fontweight='bold')\n",
        "ax.grid(alpha=0.3)\n",
        "ax.set_ylim([0, 1])\n",
        "\n",
        "plt.tight_layout()\n",
        "plt.savefig(config.OUTPUT_DIR / 'scalability_performance.png', dpi=300)\n",
        "plt.show()\n",
        "\n",
        "print(\"✓ Performance plot saved\")"
      ]
    },
    {
      "cell_type": "code",
      "execution_count": null,
      "metadata": {
        "id": "1nC_OsIgGwQU"
      },
      "outputs": [],
      "source": [
        "# Plot 2: Circuit Complexity\n",
        "fig, axes = plt.subplots(1, 2, figsize=(15, 5))\n",
        "\n",
        "qubits = sorted(set(r['n_qubits'] for r in all_results))\n",
        "gate_counts = [all_results[0]['gate_count'] for r in all_results if r['n_qubits'] == qubits[0]][0]\n",
        "gate_counts_list = []\n",
        "depths_list = []\n",
        "\n",
        "for q in qubits:\n",
        "    matching = [r for r in all_results if r['n_qubits'] == q]\n",
        "    if matching:\n",
        "        gate_counts_list.append(matching[0]['gate_count'])\n",
        "        depths_list.append(matching[0]['circuit_depth'])\n",
        "\n",
        "# Gate count\n",
        "ax = axes[0]\n",
        "ax.bar(qubits, gate_counts_list, color='steelblue', alpha=0.7)\n",
        "ax.set_xlabel('Number of Qubits', fontsize=12)\n",
        "ax.set_ylabel('Gate Count', fontsize=12)\n",
        "ax.set_title('Circuit Gate Count vs Qubits', fontsize=14, fontweight='bold')\n",
        "ax.grid(axis='y', alpha=0.3)\n",
        "\n",
        "# Circuit depth\n",
        "ax = axes[1]\n",
        "ax.bar(qubits, depths_list, color='mediumseagreen', alpha=0.7)\n",
        "ax.set_xlabel('Number of Qubits', fontsize=12)\n",
        "ax.set_ylabel('Circuit Depth', fontsize=12)\n",
        "ax.set_title('Circuit Depth vs Qubits', fontsize=14, fontweight='bold')\n",
        "ax.grid(axis='y', alpha=0.3)\n",
        "\n",
        "plt.tight_layout()\n",
        "plt.savefig(config.OUTPUT_DIR / 'circuit_complexity.png', dpi=300)\n",
        "plt.show()\n",
        "\n",
        "print(\"✓ Complexity plot saved\")"
      ]
    },
    {
      "cell_type": "markdown",
      "metadata": {
        "id": "lSbhsGV6GwQU"
      },
      "source": [
        "## 7. Download Results"
      ]
    },
    {
      "cell_type": "code",
      "execution_count": null,
      "metadata": {
        "id": "VYiyn0IfGwQV"
      },
      "outputs": [],
      "source": [
        "from google.colab import files\n",
        "import shutil\n",
        "\n",
        "# Create zip of all results\n",
        "shutil.make_archive('scalability_results', 'zip', config.OUTPUT_DIR)\n",
        "\n",
        "print(\"Downloading results...\")\n",
        "files.download('scalability_results.zip')\n",
        "\n",
        "print(\"\\n✓ Download complete!\")\n",
        "print(\"\\nYour results include:\")\n",
        "print(\"  - JSON files with raw data\")\n",
        "print(\"  - PNG plots\")\n",
        "print(\"  - Summary statistics\")"
      ]
    }
  ],
  "metadata": {
    "accelerator": "GPU",
    "colab": {
      "gpuType": "T4",
      "provenance": [],
      "toc_visible": true
    },
    "kernelspec": {
      "display_name": "Python 3",
      "name": "python3"
    }
  },
  "nbformat": 4,
  "nbformat_minor": 0
}