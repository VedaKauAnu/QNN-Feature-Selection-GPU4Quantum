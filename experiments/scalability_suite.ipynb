{
  "cells": [
    {
      "cell_type": "markdown",
      "metadata": {
        "id": "2ZO0jcwlGwQE"
      },
      "source": [
        "# Adaptive QNN Scalability Suite"
      ]
    },
    {
      "cell_type": "markdown",
      "metadata": {
        "id": "NmMiLFGwGwQJ"
      },
      "source": [
        "## 1. Setup & Installation"
      ]
    },
    {
      "cell_type": "code",
      "execution_count": 1,
      "metadata": {
        "id": "A5Y922ySGwQJ",
        "colab": {
          "base_uri": "https://localhost:8080/"
        },
        "outputId": "51a7b170-9689-471b-89e8-63de1f7a050d"
      },
      "outputs": [
        {
          "output_type": "stream",
          "name": "stdout",
          "text": [
            "Wed Oct 15 10:08:29 2025       \n",
            "+-----------------------------------------------------------------------------------------+\n",
            "| NVIDIA-SMI 550.54.15              Driver Version: 550.54.15      CUDA Version: 12.4     |\n",
            "|-----------------------------------------+------------------------+----------------------+\n",
            "| GPU  Name                 Persistence-M | Bus-Id          Disp.A | Volatile Uncorr. ECC |\n",
            "| Fan  Temp   Perf          Pwr:Usage/Cap |           Memory-Usage | GPU-Util  Compute M. |\n",
            "|                                         |                        |               MIG M. |\n",
            "|=========================================+========================+======================|\n",
            "|   0  NVIDIA A100-SXM4-40GB          Off |   00000000:00:04.0 Off |                    0 |\n",
            "| N/A   33C    P0             50W /  400W |       0MiB /  40960MiB |      0%      Default |\n",
            "|                                         |                        |             Disabled |\n",
            "+-----------------------------------------+------------------------+----------------------+\n",
            "                                                                                         \n",
            "+-----------------------------------------------------------------------------------------+\n",
            "| Processes:                                                                              |\n",
            "|  GPU   GI   CI        PID   Type   Process name                              GPU Memory |\n",
            "|        ID   ID                                                               Usage      |\n",
            "|=========================================================================================|\n",
            "|  No running processes found                                                             |\n",
            "+-----------------------------------------------------------------------------------------+\n",
            "\u001b[2K     \u001b[90m━━━━━━━━━━━━━━━━━━━━━━━━━━━━━━━━━━━━━━━━\u001b[0m \u001b[32m57.1/57.1 kB\u001b[0m \u001b[31m2.9 MB/s\u001b[0m eta \u001b[36m0:00:00\u001b[0m\n",
            "\u001b[2K   \u001b[90m━━━━━━━━━━━━━━━━━━━━━━━━━━━━━━━━━━━━━━━━\u001b[0m \u001b[32m4.8/4.8 MB\u001b[0m \u001b[31m64.6 MB/s\u001b[0m eta \u001b[36m0:00:00\u001b[0m\n",
            "\u001b[2K   \u001b[90m━━━━━━━━━━━━━━━━━━━━━━━━━━━━━━━━━━━━━━━━\u001b[0m \u001b[32m1.0/1.0 MB\u001b[0m \u001b[31m75.1 MB/s\u001b[0m eta \u001b[36m0:00:00\u001b[0m\n",
            "\u001b[2K   \u001b[90m━━━━━━━━━━━━━━━━━━━━━━━━━━━━━━━━━━━━━━━━\u001b[0m \u001b[32m2.6/2.6 MB\u001b[0m \u001b[31m115.4 MB/s\u001b[0m eta \u001b[36m0:00:00\u001b[0m\n",
            "\u001b[2K   \u001b[90m━━━━━━━━━━━━━━━━━━━━━━━━━━━━━━━━━━━━━━━━\u001b[0m \u001b[32m930.8/930.8 kB\u001b[0m \u001b[31m67.9 MB/s\u001b[0m eta \u001b[36m0:00:00\u001b[0m\n",
            "\u001b[2K   \u001b[90m━━━━━━━━━━━━━━━━━━━━━━━━━━━━━━━━━━━━━━━━\u001b[0m \u001b[32m2.2/2.2 MB\u001b[0m \u001b[31m89.2 MB/s\u001b[0m eta \u001b[36m0:00:00\u001b[0m\n",
            "\u001b[2K   \u001b[90m━━━━━━━━━━━━━━━━━━━━━━━━━━━━━━━━━━━━━━━━\u001b[0m \u001b[32m8.6/8.6 MB\u001b[0m \u001b[31m162.9 MB/s\u001b[0m eta \u001b[36m0:00:00\u001b[0m\n",
            "\u001b[2K   \u001b[90m━━━━━━━━━━━━━━━━━━━━━━━━━━━━━━━━━━━━━━━━\u001b[0m \u001b[32m72.3/72.3 MB\u001b[0m \u001b[31m36.2 MB/s\u001b[0m eta \u001b[36m0:00:00\u001b[0m\n",
            "\u001b[2K   \u001b[90m━━━━━━━━━━━━━━━━━━━━━━━━━━━━━━━━━━━━━━━━\u001b[0m \u001b[32m167.9/167.9 kB\u001b[0m \u001b[31m18.5 MB/s\u001b[0m eta \u001b[36m0:00:00\u001b[0m\n",
            "\u001b[?25hFatal Python error: init_import_site: Failed to import the site module\n",
            "Python runtime state: initialized\n",
            "object address  : 0x7e92c128afe0\n",
            "object refcount : 1\n",
            "object type     : 0xa2a4e0\n",
            "object type name: KeyboardInterrupt\n",
            "object repr     : KeyboardInterrupt()\n",
            "lost sys.stderr\n",
            "\n",
            " Installation complete!\n"
          ]
        }
      ],
      "source": [
        "# Check GPU availability\n",
        "!nvidia-smi\n",
        "\n",
        "# Install quantum computing packages\n",
        "!pip install -q pennylane pennylane-lightning-gpu\n",
        "!pip install -q scikit-learn matplotlib seaborn\n",
        "\n",
        "print(\"\\n Installation complete!\")"
      ]
    },
    {
      "cell_type": "code",
      "execution_count": 29,
      "metadata": {
        "id": "0fMkXVyfGwQM",
        "colab": {
          "base_uri": "https://localhost:8080/"
        },
        "outputId": "ca964e69-ba9f-48a8-a4a3-c2880ccf5c80"
      },
      "outputs": [
        {
          "output_type": "stream",
          "name": "stdout",
          "text": [
            " GPU-accelerated quantum simulation available!\n",
            "Device: <lightning.gpu device (wires=4) at 0x7e3c6c7fbe30>\n"
          ]
        }
      ],
      "source": [
        "import pennylane as qml\n",
        "import numpy as np\n",
        "\n",
        "try:\n",
        "    dev = qml.device('lightning.gpu', wires=4)\n",
        "    print(\" GPU-accelerated quantum simulation available!\")\n",
        "except:\n",
        "    print(\"GPU not available, will use CPU\")\n",
        "    dev = qml.device('default.qubit', wires=4)\n",
        "\n",
        "print(f\"Device: {dev}\")"
      ]
    },
    {
      "cell_type": "markdown",
      "metadata": {
        "id": "ftWkjiJZGwQM"
      },
      "source": [
        "## 2. Upload Project Files\n",
        "\n",
        "**Option A:** Upload directly"
      ]
    },
    {
      "cell_type": "code",
      "execution_count": 30,
      "metadata": {
        "id": "FiI6Z5kSGwQN",
        "colab": {
          "base_uri": "https://localhost:8080/"
        },
        "outputId": "368207e0-c93d-4e84-c053-557cf7f97461"
      },
      "outputs": [
        {
          "output_type": "stream",
          "name": "stdout",
          "text": [
            "Upload your Python files:\n",
            "  - noisy_10q_experiment.py (to experiments/)\n",
            "  - Any other dependencies\n",
            "\n",
            "Or skip if using Option B (GitHub)\n"
          ]
        }
      ],
      "source": [
        "from google.colab import files\n",
        "import os\n",
        "\n",
        "# Create directories\n",
        "os.makedirs('src', exist_ok=True)\n",
        "os.makedirs('experiments', exist_ok=True)\n",
        "os.makedirs('results/scalability', exist_ok=True)\n",
        "\n",
        "print(\"Upload your Python files:\")\n",
        "print(\"  - noisy_10q_experiment.py (to experiments/)\")\n",
        "print(\"  - Any other dependencies\")\n",
        "print(\"\\nOr skip if using Option B (GitHub)\")"
      ]
    },
    {
      "cell_type": "markdown",
      "metadata": {
        "id": "ZMSIShtwGwQO"
      },
      "source": [
        "## 3. Scalability Suite Code"
      ]
    },
    {
      "cell_type": "code",
      "execution_count": 28,
      "metadata": {
        "id": "2Y8fiaRoGwQO"
      },
      "outputs": [],
      "source": [
        "import numpy as np\n",
        "import matplotlib.pyplot as plt\n",
        "import seaborn as sns\n",
        "from datetime import datetime\n",
        "import time\n",
        "import json\n",
        "from pathlib import Path\n",
        "from sklearn.datasets import load_wine, load_iris, load_breast_cancer\n",
        "from sklearn.model_selection import train_test_split\n",
        "from sklearn.preprocessing import StandardScaler\n",
        "from sklearn.decomposition import PCA\n",
        "import warnings\n",
        "warnings.filterwarnings('ignore')\n",
        "\n",
        "# Set plotting style\n",
        "sns.set_style('whitegrid')\n",
        "plt.rcParams['figure.dpi'] = 100"
      ]
    },
    {
      "cell_type": "code",
      "execution_count": 27,
      "metadata": {
        "id": "4bSp7UDwGwQP",
        "colab": {
          "base_uri": "https://localhost:8080/"
        },
        "outputId": "977a75fe-d427-46ca-df41-c1eed35ebd44"
      },
      "outputs": [
        {
          "output_type": "stream",
          "name": "stdout",
          "text": [
            "Configuration:\n",
            "  Qubit counts: [8, 10, 12, 16]\n",
            "  Epochs per trial: 15\n",
            "  Trials per config: 3\n",
            "  Dataset: breast_cancer\n",
            "  GPU: True\n"
          ]
        }
      ],
      "source": [
        "# Configuration\n",
        "class ScalabilityConfig:\n",
        "    # UPDATED: Added 16 qubits\n",
        "    QUBIT_COUNTS = [8, 10, 12, 16]\n",
        "\n",
        "    NOISE_LEVELS = {\n",
        "        'none': {\n",
        "            'single_qubit_error': 0.0,\n",
        "            'two_qubit_error': 0.0,\n",
        "            'measurement_error': 0.0,\n",
        "            'description': 'No noise (ideal)'\n",
        "        },\n",
        "        'low': {\n",
        "            'single_qubit_error': 0.0005,\n",
        "            'two_qubit_error': 0.001,\n",
        "            'measurement_error': 0.001,\n",
        "            'description': 'Low noise'\n",
        "        },\n",
        "        'realistic': {\n",
        "            'single_qubit_error': 0.01,\n",
        "            'two_qubit_error': 0.015,\n",
        "            'measurement_error': 0.02,\n",
        "            'description': 'Realistic NISQ'\n",
        "        },\n",
        "        'high': {\n",
        "            'single_qubit_error': 0.02,\n",
        "            'two_qubit_error': 0.03,\n",
        "            'measurement_error': 0.04,\n",
        "            'description': 'High noise'\n",
        "        }\n",
        "    }\n",
        "\n",
        "    N_EPOCHS = 15\n",
        "    N_TRIALS = 3\n",
        "    DATASET = 'breast_cancer'\n",
        "    OUTPUT_DIR = Path('results/scalability')\n",
        "\n",
        "    # GPU support\n",
        "    USE_GPU = True\n",
        "\n",
        "config = ScalabilityConfig()\n",
        "config.OUTPUT_DIR.mkdir(parents=True, exist_ok=True)\n",
        "\n",
        "print(f\"Configuration:\")\n",
        "print(f\"  Qubit counts: {config.QUBIT_COUNTS}\")\n",
        "print(f\"  Epochs per trial: {config.N_EPOCHS}\")\n",
        "print(f\"  Trials per config: {config.N_TRIALS}\")\n",
        "print(f\"  Dataset: {config.DATASET}\")\n",
        "print(f\"  GPU: {config.USE_GPU}\")"
      ]
    },
    {
      "cell_type": "code",
      "execution_count": 31,
      "metadata": {
        "id": "tiTjoRzAGwQP",
        "colab": {
          "base_uri": "https://localhost:8080/"
        },
        "outputId": "92452e91-5f22-4daf-9dee-81e1bd1784e5"
      },
      "outputs": [
        {
          "output_type": "stream",
          "name": "stdout",
          "text": [
            "✓ Helper classes defined\n"
          ]
        }
      ],
      "source": [
        "# Helper Classes\n",
        "class FeatureSelector:\n",
        "    @staticmethod\n",
        "    def pca(X_train, X_test, n_components):\n",
        "        pca = PCA(n_components=n_components)\n",
        "        X_train_red = pca.fit_transform(X_train)\n",
        "        X_test_red = pca.transform(X_test)\n",
        "        return X_train_red, X_test_red\n",
        "\n",
        "class DataLoader:\n",
        "    @staticmethod\n",
        "    def load_dataset(name='breast_cancer'):\n",
        "        if name == 'wine':\n",
        "            data = load_wine()\n",
        "        elif name == 'iris':\n",
        "            data = load_iris()\n",
        "        elif name == 'breast_cancer':\n",
        "            data = load_breast_cancer()\n",
        "        else:\n",
        "            raise ValueError(f\"Unknown dataset: {name}\")\n",
        "\n",
        "        X, y = data.data, data.target\n",
        "\n",
        "        # Breast cancer is already binary, others need filtering\n",
        "        if name in ['wine', 'iris']:\n",
        "            mask = y < 2\n",
        "            X, y = X[mask], y[mask]\n",
        "\n",
        "        return X, y, data.feature_names\n",
        "\n",
        "print(\"✓ Helper classes defined\")"
      ]
    },
    {
      "cell_type": "code",
      "execution_count": 32,
      "metadata": {
        "id": "WJR5LJfwGwQQ",
        "colab": {
          "base_uri": "https://localhost:8080/"
        },
        "outputId": "27f78f7e-7c78-4949-fc55-fa9d1c5b0c8f"
      },
      "outputs": [
        {
          "output_type": "stream",
          "name": "stdout",
          "text": [
            "✓ Optimized Noisy QNN class defined\n"
          ]
        }
      ],
      "source": [
        "from autograd import numpy as anp\n",
        "import time\n",
        "\n",
        "class NoisyQuantumNeuralNetwork:\n",
        "    \"\"\"Optimized QNN with simplified noise model for fast training\"\"\"\n",
        "\n",
        "    def __init__(self, n_qubits, n_layers, encoding_method='angle', noise_params=None):\n",
        "        self.n_qubits = n_qubits\n",
        "        self.n_layers = n_layers\n",
        "        self.encoding_method = encoding_method\n",
        "        self.noise_params = noise_params or {\n",
        "            'single_qubit_error': 0,\n",
        "            'two_qubit_error': 0,\n",
        "            'measurement_error': 0\n",
        "        }\n",
        "\n",
        "        # Simplified noise model: parameter perturbation instead of density matrices\n",
        "        # This is 10-100x faster while still showing noise effects\n",
        "        if config.USE_GPU:\n",
        "            try:\n",
        "                self.dev = qml.device('lightning.gpu', wires=n_qubits)\n",
        "                device_type = \"GPU\"\n",
        "            except:\n",
        "                self.dev = qml.device('default.qubit', wires=n_qubits)\n",
        "                device_type = \"CPU\"\n",
        "        else:\n",
        "            self.dev = qml.device('default.qubit', wires=n_qubits)\n",
        "            device_type = \"CPU\"\n",
        "\n",
        "        print(f\"  Using {device_type} for {n_qubits} qubits (optimized noise model)\")\n",
        "\n",
        "        # Parameters\n",
        "        self.n_params = n_layers * n_qubits * 3\n",
        "        self.params = np.random.randn(self.n_params) * 0.1\n",
        "\n",
        "        # Calculate effective noise strength from error rates\n",
        "        noise_keys = ['single_qubit_error', 'two_qubit_error']\n",
        "        avg_error = np.mean([self.noise_params.get(k, 0) for k in noise_keys])\n",
        "        self.noise_strength = avg_error * 2.0  # Scale for parameter noise\n",
        "\n",
        "        if self.noise_strength > 0:\n",
        "            print(f\"  Noise strength: {self.noise_strength:.4f} (fast parameter noise)\")\n",
        "\n",
        "        # Circuit metrics\n",
        "        self.gate_count = 0\n",
        "        self.circuit_depth = 0\n",
        "\n",
        "        # Create QNode with autograd\n",
        "        self.qnode = qml.QNode(self._circuit, self.dev, interface='autograd')\n",
        "\n",
        "    def _circuit(self, features, params):\n",
        "        \"\"\"Optimized quantum circuit\"\"\"\n",
        "        wires = range(self.n_qubits)\n",
        "        self.gate_count = 0\n",
        "\n",
        "        # Encoding layer\n",
        "        if self.encoding_method == 'angle':\n",
        "            for i in range(min(len(features), self.n_qubits)):\n",
        "                qml.RY(features[i], wires=i)\n",
        "                self.gate_count += 1\n",
        "        elif self.encoding_method == 'amplitude':\n",
        "            n_amplitudes = 2 ** self.n_qubits\n",
        "            padded = np.zeros(n_amplitudes)\n",
        "            padded[:len(features)] = features\n",
        "            normalized = padded / (np.linalg.norm(padded) + 1e-10)\n",
        "            qml.AmplitudeEmbedding(normalized, wires=wires, normalize=True)\n",
        "            self.gate_count += 1\n",
        "\n",
        "        # Variational layers\n",
        "        for layer in range(self.n_layers):\n",
        "            # Single-qubit rotations\n",
        "            for i in range(self.n_qubits):\n",
        "                idx = layer * self.n_qubits * 3 + i * 3\n",
        "                qml.RX(params[idx], wires=i)\n",
        "                qml.RY(params[idx + 1], wires=i)\n",
        "                qml.RZ(params[idx + 2], wires=i)\n",
        "                self.gate_count += 3\n",
        "\n",
        "            # Entangling layer\n",
        "            for i in range(self.n_qubits):\n",
        "                qml.CNOT(wires=[i, (i + 1) % self.n_qubits])\n",
        "                self.gate_count += 1\n",
        "\n",
        "        return qml.expval(qml.PauliZ(0))\n",
        "\n",
        "    def predict_single(self, features):\n",
        "        \"\"\"Predict single sample\"\"\"\n",
        "        output = self.qnode(features, self.params)\n",
        "        return 1 if output > 0 else 0\n",
        "\n",
        "    def predict_batch(self, X):\n",
        "        \"\"\"Predict batch of samples\"\"\"\n",
        "        return np.array([self.predict_single(x) for x in X])\n",
        "\n",
        "    def train_step(self, X_batch, y_batch, learning_rate):\n",
        "        \"\"\"Optimized training step with noise simulation\"\"\"\n",
        "        def loss_fn(params):\n",
        "            # Simulate noise via parameter perturbation (much faster than density matrices!)\n",
        "            if self.noise_strength > 0:\n",
        "                # Add Gaussian noise to simulate noisy gates\n",
        "                noise = np.random.randn(*params.shape) * self.noise_strength\n",
        "                noisy_params = params + noise\n",
        "            else:\n",
        "                noisy_params = params\n",
        "\n",
        "            # Compute loss with noisy parameters\n",
        "            predictions = anp.array([self.qnode(x, noisy_params) for x in X_batch])\n",
        "            targets = 2 * y_batch - 1\n",
        "            return anp.mean((predictions - targets) ** 2)\n",
        "\n",
        "        # Compute gradients\n",
        "        grad_fn = qml.grad(loss_fn, argnum=0)\n",
        "        gradients = grad_fn(self.params)\n",
        "\n",
        "        # Update parameters\n",
        "        self.params = self.params - learning_rate * np.array(gradients)\n",
        "\n",
        "        return float(loss_fn(self.params))\n",
        "\n",
        "print(\"✓ Optimized Noisy QNN class defined\")"
      ]
    },
    {
      "cell_type": "markdown",
      "metadata": {
        "id": "AZSUov8mGwQR"
      },
      "source": [
        "## 4. Run Scalability Experiments"
      ]
    },
    {
      "cell_type": "code",
      "execution_count": 33,
      "metadata": {
        "id": "dCocLYQWGwQR",
        "colab": {
          "base_uri": "https://localhost:8080/"
        },
        "outputId": "2199ade8-9f14-47b3-ab4a-4063f92736b7"
      },
      "outputs": [
        {
          "output_type": "stream",
          "name": "stdout",
          "text": [
            "✓ Experiment function defined\n"
          ]
        }
      ],
      "source": [
        "def run_scalability_experiment(n_qubits, noise_level_name, trial=1):\n",
        "    \"\"\"Run single scalability experiment\"\"\"\n",
        "    print(f\"  Trial {trial}: {n_qubits} qubits, {noise_level_name} noise\")\n",
        "\n",
        "    noise_params = config.NOISE_LEVELS[noise_level_name]\n",
        "\n",
        "    # Load and prepare data\n",
        "    X, y, _ = DataLoader.load_dataset(config.DATASET)\n",
        "    X_train, X_test, y_train, y_test = train_test_split(\n",
        "        X, y, test_size=0.3, random_state=42 + trial\n",
        "    )\n",
        "\n",
        "    scaler = StandardScaler()\n",
        "    X_train = scaler.fit_transform(X_train)\n",
        "    X_test = scaler.transform(X_test)\n",
        "\n",
        "    # Feature selection\n",
        "    X_train_red, X_test_red = FeatureSelector.pca(X_train, X_test, n_qubits)\n",
        "\n",
        "    # Create and train QNN\n",
        "    qnn = NoisyQuantumNeuralNetwork(\n",
        "        n_qubits=n_qubits,\n",
        "        n_layers=2,\n",
        "        encoding_method='angle',\n",
        "        noise_params=noise_params\n",
        "    )\n",
        "\n",
        "    # Training loop\n",
        "    learning_rate = 0.01\n",
        "    batch_size = 16\n",
        "\n",
        "    for epoch in range(config.N_EPOCHS):\n",
        "        n_samples = len(X_train_red)\n",
        "        indices = np.random.permutation(n_samples)\n",
        "\n",
        "        for i in range(0, n_samples, batch_size):\n",
        "            batch_idx = indices[i:i+batch_size]\n",
        "            qnn.train_step(X_train_red[batch_idx], y_train[batch_idx], learning_rate)\n",
        "\n",
        "    # Evaluation\n",
        "    train_pred = qnn.predict_batch(X_train_red)\n",
        "    train_acc = np.mean(train_pred == y_train)\n",
        "\n",
        "    val_pred = qnn.predict_batch(X_test_red)\n",
        "    val_acc = np.mean(val_pred == y_test)\n",
        "\n",
        "    result = {\n",
        "        'n_qubits': n_qubits,\n",
        "        'noise_level': noise_level_name,\n",
        "        'trial': trial,\n",
        "        'train_acc': float(train_acc),\n",
        "        'val_acc': float(val_acc),\n",
        "        'gate_count': qnn.gate_count,\n",
        "        'circuit_depth': qnn.circuit_depth,\n",
        "        'noise_params': noise_params\n",
        "    }\n",
        "\n",
        "    print(f\"    Val Acc: {val_acc:.4f}, Gates: {qnn.gate_count}, Depth: {qnn.circuit_depth}\")\n",
        "\n",
        "    return result\n",
        "\n",
        "print(\"✓ Experiment function defined\")"
      ]
    },
    {
      "cell_type": "code",
      "execution_count": 34,
      "metadata": {
        "id": "KqF5xvA1GwQS",
        "colab": {
          "base_uri": "https://localhost:8080/"
        },
        "outputId": "bf857f04-079d-49c8-8776-534a648abc9c"
      },
      "outputs": [
        {
          "output_type": "stream",
          "name": "stdout",
          "text": [
            "======================================================================\n",
            "STARTING SCALABILITY SUITE\n",
            "======================================================================\n",
            "\n",
            "Total experiments: 48\n",
            "Estimated time: 96-192 minutes\n",
            "\n",
            "\n",
            "──────────────────────────────────────────────────────────────────────\n",
            "Testing 8 qubits\n",
            "──────────────────────────────────────────────────────────────────────\n",
            "\n",
            "  Noise level: none\n",
            "  Trial 1: 8 qubits, none noise\n",
            "  Using GPU for 8 qubits (optimized noise model)\n",
            "    Val Acc: 0.4444, Gates: 72, Depth: 0\n",
            "    Progress: 1/48 (2.1%) - ETA: 96.2 min\n",
            "  Trial 2: 8 qubits, none noise\n",
            "  Using GPU for 8 qubits (optimized noise model)\n",
            "    Val Acc: 0.5029, Gates: 72, Depth: 0\n",
            "    Progress: 2/48 (4.2%) - ETA: 94.2 min\n",
            "  Trial 3: 8 qubits, none noise\n",
            "  Using GPU for 8 qubits (optimized noise model)\n",
            "    Val Acc: 0.4503, Gates: 72, Depth: 0\n",
            "    Progress: 3/48 (6.2%) - ETA: 92.1 min\n",
            "\n",
            "  Noise level: low\n",
            "  Trial 1: 8 qubits, low noise\n",
            "  Using GPU for 8 qubits (optimized noise model)\n",
            "  Noise strength: 0.0015 (fast parameter noise)\n",
            "    Val Acc: 0.5497, Gates: 72, Depth: 0\n",
            "    Progress: 4/48 (8.3%) - ETA: 90.1 min\n",
            "  Trial 2: 8 qubits, low noise\n",
            "  Using GPU for 8 qubits (optimized noise model)\n",
            "  Noise strength: 0.0015 (fast parameter noise)\n",
            "    Val Acc: 0.5380, Gates: 72, Depth: 0\n",
            "    Progress: 5/48 (10.4%) - ETA: 88.0 min\n",
            "  Trial 3: 8 qubits, low noise\n",
            "  Using GPU for 8 qubits (optimized noise model)\n",
            "  Noise strength: 0.0015 (fast parameter noise)\n",
            "    Val Acc: 0.4444, Gates: 72, Depth: 0\n",
            "    Progress: 6/48 (12.5%) - ETA: 85.9 min\n",
            "\n",
            "  Noise level: realistic\n",
            "  Trial 1: 8 qubits, realistic noise\n",
            "  Using GPU for 8 qubits (optimized noise model)\n",
            "  Noise strength: 0.0250 (fast parameter noise)\n",
            "    Val Acc: 0.4678, Gates: 72, Depth: 0\n",
            "    Progress: 7/48 (14.6%) - ETA: 83.8 min\n",
            "  Trial 2: 8 qubits, realistic noise\n",
            "  Using GPU for 8 qubits (optimized noise model)\n",
            "  Noise strength: 0.0250 (fast parameter noise)\n",
            "    Val Acc: 0.5205, Gates: 72, Depth: 0\n",
            "    Progress: 8/48 (16.7%) - ETA: 81.7 min\n",
            "  Trial 3: 8 qubits, realistic noise\n",
            "  Using GPU for 8 qubits (optimized noise model)\n",
            "  Noise strength: 0.0250 (fast parameter noise)\n",
            "    Val Acc: 0.4327, Gates: 72, Depth: 0\n",
            "    Progress: 9/48 (18.8%) - ETA: 79.7 min\n",
            "\n",
            "  Noise level: high\n",
            "  Trial 1: 8 qubits, high noise\n",
            "  Using GPU for 8 qubits (optimized noise model)\n",
            "  Noise strength: 0.0500 (fast parameter noise)\n",
            "    Val Acc: 0.5088, Gates: 72, Depth: 0\n",
            "    Progress: 10/48 (20.8%) - ETA: 77.7 min\n",
            "  Trial 2: 8 qubits, high noise\n",
            "  Using GPU for 8 qubits (optimized noise model)\n",
            "  Noise strength: 0.0500 (fast parameter noise)\n",
            "    Val Acc: 0.5029, Gates: 72, Depth: 0\n",
            "    Progress: 11/48 (22.9%) - ETA: 75.6 min\n",
            "  Trial 3: 8 qubits, high noise\n",
            "  Using GPU for 8 qubits (optimized noise model)\n",
            "  Noise strength: 0.0500 (fast parameter noise)\n",
            "    Val Acc: 0.4386, Gates: 72, Depth: 0\n",
            "    Progress: 12/48 (25.0%) - ETA: 73.6 min\n",
            "\n",
            "──────────────────────────────────────────────────────────────────────\n",
            "Testing 10 qubits\n",
            "──────────────────────────────────────────────────────────────────────\n",
            "\n",
            "  Noise level: none\n",
            "  Trial 1: 10 qubits, none noise\n",
            "  Using GPU for 10 qubits (optimized noise model)\n",
            "    Val Acc: 0.4327, Gates: 90, Depth: 0\n",
            "    Progress: 13/48 (27.1%) - ETA: 72.7 min\n",
            "  Trial 2: 10 qubits, none noise\n",
            "  Using GPU for 10 qubits (optimized noise model)\n",
            "    Val Acc: 0.5673, Gates: 90, Depth: 0\n",
            "    Progress: 14/48 (29.2%) - ETA: 71.5 min\n",
            "  Trial 3: 10 qubits, none noise\n",
            "  Using GPU for 10 qubits (optimized noise model)\n",
            "    Val Acc: 0.4854, Gates: 90, Depth: 0\n",
            "    Progress: 15/48 (31.2%) - ETA: 70.2 min\n",
            "\n",
            "  Noise level: low\n",
            "  Trial 1: 10 qubits, low noise\n",
            "  Using GPU for 10 qubits (optimized noise model)\n",
            "  Noise strength: 0.0015 (fast parameter noise)\n",
            "    Val Acc: 0.4503, Gates: 90, Depth: 0\n",
            "    Progress: 16/48 (33.3%) - ETA: 68.8 min\n",
            "  Trial 2: 10 qubits, low noise\n",
            "  Using GPU for 10 qubits (optimized noise model)\n",
            "  Noise strength: 0.0015 (fast parameter noise)\n",
            "    Val Acc: 0.5088, Gates: 90, Depth: 0\n",
            "    Progress: 17/48 (35.4%) - ETA: 67.3 min\n",
            "  Trial 3: 10 qubits, low noise\n",
            "  Using GPU for 10 qubits (optimized noise model)\n",
            "  Noise strength: 0.0015 (fast parameter noise)\n",
            "    Val Acc: 0.4971, Gates: 90, Depth: 0\n",
            "    Progress: 18/48 (37.5%) - ETA: 65.7 min\n",
            "\n",
            "  Noise level: realistic\n",
            "  Trial 1: 10 qubits, realistic noise\n",
            "  Using GPU for 10 qubits (optimized noise model)\n",
            "  Noise strength: 0.0250 (fast parameter noise)\n",
            "    Val Acc: 0.4912, Gates: 90, Depth: 0\n",
            "    Progress: 19/48 (39.6%) - ETA: 64.0 min\n",
            "  Trial 2: 10 qubits, realistic noise\n",
            "  Using GPU for 10 qubits (optimized noise model)\n",
            "  Noise strength: 0.0250 (fast parameter noise)\n",
            "    Val Acc: 0.5322, Gates: 90, Depth: 0\n",
            "    Progress: 20/48 (41.7%) - ETA: 62.1 min\n",
            "  Trial 3: 10 qubits, realistic noise\n",
            "  Using GPU for 10 qubits (optimized noise model)\n",
            "  Noise strength: 0.0250 (fast parameter noise)\n",
            "    Val Acc: 0.4620, Gates: 90, Depth: 0\n",
            "    Progress: 21/48 (43.8%) - ETA: 60.2 min\n",
            "\n",
            "  Noise level: high\n",
            "  Trial 1: 10 qubits, high noise\n",
            "  Using GPU for 10 qubits (optimized noise model)\n",
            "  Noise strength: 0.0500 (fast parameter noise)\n",
            "    Val Acc: 0.5088, Gates: 90, Depth: 0\n",
            "    Progress: 22/48 (45.8%) - ETA: 58.3 min\n",
            "  Trial 2: 10 qubits, high noise\n",
            "  Using GPU for 10 qubits (optimized noise model)\n",
            "  Noise strength: 0.0500 (fast parameter noise)\n",
            "    Val Acc: 0.5146, Gates: 90, Depth: 0\n",
            "    Progress: 23/48 (47.9%) - ETA: 56.3 min\n",
            "  Trial 3: 10 qubits, high noise\n",
            "  Using GPU for 10 qubits (optimized noise model)\n",
            "  Noise strength: 0.0500 (fast parameter noise)\n",
            "    Val Acc: 0.4620, Gates: 90, Depth: 0\n",
            "    Progress: 24/48 (50.0%) - ETA: 54.3 min\n",
            "\n",
            "──────────────────────────────────────────────────────────────────────\n",
            "Testing 12 qubits\n",
            "──────────────────────────────────────────────────────────────────────\n",
            "\n",
            "  Noise level: none\n",
            "  Trial 1: 12 qubits, none noise\n",
            "  Using GPU for 12 qubits (optimized noise model)\n",
            "    Val Acc: 0.4971, Gates: 108, Depth: 0\n",
            "    Progress: 25/48 (52.1%) - ETA: 52.6 min\n",
            "  Trial 2: 12 qubits, none noise\n",
            "  Using GPU for 12 qubits (optimized noise model)\n",
            "    Val Acc: 0.5263, Gates: 108, Depth: 0\n",
            "    Progress: 26/48 (54.2%) - ETA: 50.9 min\n",
            "  Trial 3: 12 qubits, none noise\n",
            "  Using GPU for 12 qubits (optimized noise model)\n",
            "    Val Acc: 0.4795, Gates: 108, Depth: 0\n",
            "    Progress: 27/48 (56.2%) - ETA: 49.0 min\n",
            "\n",
            "  Noise level: low\n",
            "  Trial 1: 12 qubits, low noise\n",
            "  Using GPU for 12 qubits (optimized noise model)\n",
            "  Noise strength: 0.0015 (fast parameter noise)\n",
            "    Val Acc: 0.5322, Gates: 108, Depth: 0\n",
            "    Progress: 28/48 (58.3%) - ETA: 47.1 min\n",
            "  Trial 2: 12 qubits, low noise\n",
            "  Using GPU for 12 qubits (optimized noise model)\n",
            "  Noise strength: 0.0015 (fast parameter noise)\n",
            "    Val Acc: 0.5263, Gates: 108, Depth: 0\n",
            "    Progress: 29/48 (60.4%) - ETA: 45.2 min\n",
            "  Trial 3: 12 qubits, low noise\n",
            "  Using GPU for 12 qubits (optimized noise model)\n",
            "  Noise strength: 0.0015 (fast parameter noise)\n",
            "    Val Acc: 0.5088, Gates: 108, Depth: 0\n",
            "    Progress: 30/48 (62.5%) - ETA: 43.2 min\n",
            "\n",
            "  Noise level: realistic\n",
            "  Trial 1: 12 qubits, realistic noise\n",
            "  Using GPU for 12 qubits (optimized noise model)\n",
            "  Noise strength: 0.0250 (fast parameter noise)\n",
            "    Val Acc: 0.4678, Gates: 108, Depth: 0\n",
            "    Progress: 31/48 (64.6%) - ETA: 41.1 min\n",
            "  Trial 2: 12 qubits, realistic noise\n",
            "  Using GPU for 12 qubits (optimized noise model)\n",
            "  Noise strength: 0.0250 (fast parameter noise)\n",
            "    Val Acc: 0.5029, Gates: 108, Depth: 0\n",
            "    Progress: 32/48 (66.7%) - ETA: 39.0 min\n",
            "  Trial 3: 12 qubits, realistic noise\n",
            "  Using GPU for 12 qubits (optimized noise model)\n",
            "  Noise strength: 0.0250 (fast parameter noise)\n",
            "    Val Acc: 0.4327, Gates: 108, Depth: 0\n",
            "    Progress: 33/48 (68.8%) - ETA: 36.8 min\n",
            "\n",
            "  Noise level: high\n",
            "  Trial 1: 12 qubits, high noise\n",
            "  Using GPU for 12 qubits (optimized noise model)\n",
            "  Noise strength: 0.0500 (fast parameter noise)\n",
            "    Val Acc: 0.4795, Gates: 108, Depth: 0\n",
            "    Progress: 34/48 (70.8%) - ETA: 34.5 min\n",
            "  Trial 2: 12 qubits, high noise\n",
            "  Using GPU for 12 qubits (optimized noise model)\n",
            "  Noise strength: 0.0500 (fast parameter noise)\n",
            "    Val Acc: 0.5205, Gates: 108, Depth: 0\n",
            "    Progress: 35/48 (72.9%) - ETA: 32.2 min\n",
            "  Trial 3: 12 qubits, high noise\n",
            "  Using GPU for 12 qubits (optimized noise model)\n",
            "  Noise strength: 0.0500 (fast parameter noise)\n",
            "    Val Acc: 0.4795, Gates: 108, Depth: 0\n",
            "    Progress: 36/48 (75.0%) - ETA: 29.9 min\n",
            "\n",
            "──────────────────────────────────────────────────────────────────────\n",
            "Testing 16 qubits\n",
            "──────────────────────────────────────────────────────────────────────\n",
            "\n",
            "  Noise level: none\n",
            "  Trial 1: 16 qubits, none noise\n",
            "  Using GPU for 16 qubits (optimized noise model)\n",
            "    Val Acc: 0.4561, Gates: 144, Depth: 0\n",
            "    Progress: 37/48 (77.1%) - ETA: 27.8 min\n",
            "  Trial 2: 16 qubits, none noise\n",
            "  Using GPU for 16 qubits (optimized noise model)\n",
            "    Val Acc: 0.4912, Gates: 144, Depth: 0\n",
            "    Progress: 38/48 (79.2%) - ETA: 25.6 min\n",
            "  Trial 3: 16 qubits, none noise\n",
            "  Using GPU for 16 qubits (optimized noise model)\n",
            "    Val Acc: 0.4795, Gates: 144, Depth: 0\n",
            "    Progress: 39/48 (81.2%) - ETA: 23.4 min\n",
            "\n",
            "  Noise level: low\n",
            "  Trial 1: 16 qubits, low noise\n",
            "  Using GPU for 16 qubits (optimized noise model)\n",
            "  Noise strength: 0.0015 (fast parameter noise)\n",
            "    Val Acc: 0.4737, Gates: 144, Depth: 0\n",
            "    Progress: 40/48 (83.3%) - ETA: 21.0 min\n",
            "  Trial 2: 16 qubits, low noise\n",
            "  Using GPU for 16 qubits (optimized noise model)\n",
            "  Noise strength: 0.0015 (fast parameter noise)\n",
            "    Val Acc: 0.5322, Gates: 144, Depth: 0\n",
            "    Progress: 41/48 (85.4%) - ETA: 18.6 min\n",
            "  Trial 3: 16 qubits, low noise\n",
            "  Using GPU for 16 qubits (optimized noise model)\n",
            "  Noise strength: 0.0015 (fast parameter noise)\n",
            "    Val Acc: 0.4386, Gates: 144, Depth: 0\n",
            "    Progress: 42/48 (87.5%) - ETA: 16.1 min\n",
            "\n",
            "  Noise level: realistic\n",
            "  Trial 1: 16 qubits, realistic noise\n",
            "  Using GPU for 16 qubits (optimized noise model)\n",
            "  Noise strength: 0.0250 (fast parameter noise)\n",
            "    Val Acc: 0.5029, Gates: 144, Depth: 0\n",
            "    Progress: 43/48 (89.6%) - ETA: 13.6 min\n",
            "  Trial 2: 16 qubits, realistic noise\n",
            "  Using GPU for 16 qubits (optimized noise model)\n",
            "  Noise strength: 0.0250 (fast parameter noise)\n",
            "    Val Acc: 0.5146, Gates: 144, Depth: 0\n",
            "    Progress: 44/48 (91.7%) - ETA: 11.0 min\n",
            "  Trial 3: 16 qubits, realistic noise\n",
            "  Using GPU for 16 qubits (optimized noise model)\n",
            "  Noise strength: 0.0250 (fast parameter noise)\n",
            "    Val Acc: 0.4912, Gates: 144, Depth: 0\n",
            "    Progress: 45/48 (93.8%) - ETA: 8.3 min\n",
            "\n",
            "  Noise level: high\n",
            "  Trial 1: 16 qubits, high noise\n",
            "  Using GPU for 16 qubits (optimized noise model)\n",
            "  Noise strength: 0.0500 (fast parameter noise)\n",
            "    Val Acc: 0.5029, Gates: 144, Depth: 0\n",
            "    Progress: 46/48 (95.8%) - ETA: 5.6 min\n",
            "  Trial 2: 16 qubits, high noise\n",
            "  Using GPU for 16 qubits (optimized noise model)\n",
            "  Noise strength: 0.0500 (fast parameter noise)\n",
            "    Val Acc: 0.5322, Gates: 144, Depth: 0\n",
            "    Progress: 47/48 (97.9%) - ETA: 2.8 min\n",
            "  Trial 3: 16 qubits, high noise\n",
            "  Using GPU for 16 qubits (optimized noise model)\n",
            "  Noise strength: 0.0500 (fast parameter noise)\n",
            "    Val Acc: 0.4795, Gates: 144, Depth: 0\n",
            "    Progress: 48/48 (100.0%) - ETA: 0.0 min\n",
            "\n",
            "======================================================================\n",
            "✓ ALL EXPERIMENTS COMPLETE\n",
            "======================================================================\n",
            "Total time: 136.1 minutes\n",
            "Average per experiment: 170.1 seconds\n"
          ]
        }
      ],
      "source": [
        "# Run all experiments\n",
        "print(\"=\"*70)\n",
        "print(\"STARTING SCALABILITY SUITE\")\n",
        "print(\"=\"*70)\n",
        "\n",
        "all_results = []\n",
        "total_experiments = len(config.QUBIT_COUNTS) * len(config.NOISE_LEVELS) * config.N_TRIALS\n",
        "experiment_count = 0\n",
        "start_time = time.time()\n",
        "\n",
        "print(f\"\\nTotal experiments: {total_experiments}\")\n",
        "print(f\"Estimated time: {total_experiments * 2:.0f}-{total_experiments * 4:.0f} minutes\\n\")\n",
        "\n",
        "for n_qubits in config.QUBIT_COUNTS:\n",
        "    print(f\"\\n{'─'*70}\")\n",
        "    print(f\"Testing {n_qubits} qubits\")\n",
        "    print(f\"{'─'*70}\")\n",
        "\n",
        "    for noise_name in config.NOISE_LEVELS.keys():\n",
        "        print(f\"\\n  Noise level: {noise_name}\")\n",
        "\n",
        "        for trial in range(1, config.N_TRIALS + 1):\n",
        "            result = run_scalability_experiment(n_qubits, noise_name, trial)\n",
        "            all_results.append(result)\n",
        "\n",
        "            experiment_count += 1\n",
        "            elapsed = time.time() - start_time\n",
        "            avg_time = elapsed / experiment_count\n",
        "            remaining = (total_experiments - experiment_count) * avg_time\n",
        "\n",
        "            print(f\"    Progress: {experiment_count}/{total_experiments} \"\n",
        "                  f\"({experiment_count/total_experiments*100:.1f}%) - \"\n",
        "                  f\"ETA: {remaining/60:.1f} min\")\n",
        "\n",
        "total_time = time.time() - start_time\n",
        "print(f\"\\n{'='*70}\")\n",
        "print(f\"✓ ALL EXPERIMENTS COMPLETE\")\n",
        "print(f\"{'='*70}\")\n",
        "print(f\"Total time: {total_time/60:.1f} minutes\")\n",
        "print(f\"Average per experiment: {total_time/total_experiments:.1f} seconds\")"
      ]
    },
    {
      "cell_type": "markdown",
      "metadata": {
        "id": "n9E5_5dnGwQS"
      },
      "source": [
        "## 5. Save Results"
      ]
    },
    {
      "cell_type": "code",
      "execution_count": 35,
      "metadata": {
        "id": "1oLtO9OrGwQT",
        "colab": {
          "base_uri": "https://localhost:8080/"
        },
        "outputId": "fdd4e68f-d903-429e-daff-430749a4227f"
      },
      "outputs": [
        {
          "output_type": "stream",
          "name": "stdout",
          "text": [
            "✓ Results saved: results/scalability/scalability_results_20251015_130431.json\n",
            "\n",
            "======================================================================\n",
            "SUMMARY STATISTICS\n",
            "======================================================================\n",
            "\n",
            "8 Qubits:\n",
            "  none        : 0.4659 ± 0.0263\n",
            "  realistic   : 0.4737 ± 0.0360\n",
            "\n",
            "10 Qubits:\n",
            "  none        : 0.4951 ± 0.0553\n",
            "  realistic   : 0.4951 ± 0.0288\n",
            "\n",
            "12 Qubits:\n",
            "  none        : 0.5010 ± 0.0193\n",
            "  realistic   : 0.4678 ± 0.0286\n",
            "\n",
            "16 Qubits:\n",
            "  none        : 0.4756 ± 0.0146\n",
            "  realistic   : 0.5029 ± 0.0095\n"
          ]
        }
      ],
      "source": [
        "# Save to JSON\n",
        "filename = config.OUTPUT_DIR / f'scalability_results_{datetime.now().strftime(\"%Y%m%d_%H%M%S\")}.json'\n",
        "with open(filename, 'w') as f:\n",
        "    json.dump(all_results, f, indent=2)\n",
        "\n",
        "print(f\"✓ Results saved: {filename}\")\n",
        "\n",
        "# Summary statistics\n",
        "print(f\"\\n{'='*70}\")\n",
        "print(\"SUMMARY STATISTICS\")\n",
        "print(f\"{'='*70}\")\n",
        "\n",
        "for n_qubits in config.QUBIT_COUNTS:\n",
        "    print(f\"\\n{n_qubits} Qubits:\")\n",
        "    for noise in ['none', 'realistic']:\n",
        "        results = [r for r in all_results if r['n_qubits'] == n_qubits and r['noise_level'] == noise]\n",
        "        if results:\n",
        "            mean_acc = np.mean([r['val_acc'] for r in results])\n",
        "            std_acc = np.std([r['val_acc'] for r in results])\n",
        "            print(f\"  {noise:12s}: {mean_acc:.4f} ± {std_acc:.4f}\")"
      ]
    },
    {
      "cell_type": "markdown",
      "metadata": {
        "id": "cSErzp8fGwQT"
      },
      "source": [
        "## 6. Visualizations"
      ]
    },
    {
      "cell_type": "code",
      "execution_count": 36,
      "metadata": {
        "id": "DT3daiubGwQT",
        "colab": {
          "base_uri": "https://localhost:8080/",
          "height": 523
        },
        "outputId": "27d13918-ce0f-4bcd-b5b0-c5bea0334473"
      },
      "outputs": [
        {
          "output_type": "display_data",
          "data": {
            "text/plain": [
              "<Figure size 1500x500 with 2 Axes>"
            ],
            "image/png": "[encoded data removed]"
          },
          "metadata": {}
        },
        {
          "output_type": "stream",
          "name": "stdout",
          "text": [
            "✓ Performance plot saved\n"
          ]
        }
      ],
      "source": [
        "# Plot 1: Performance vs Qubit Count\n",
        "fig, axes = plt.subplots(1, 2, figsize=(15, 5))\n",
        "\n",
        "# No noise\n",
        "ax = axes[0]\n",
        "noise_free = [r for r in all_results if r['noise_level'] == 'none']\n",
        "qubits = sorted(set(r['n_qubits'] for r in noise_free))\n",
        "accs = [np.mean([r['val_acc'] for r in noise_free if r['n_qubits'] == q]) for q in qubits]\n",
        "stds = [np.std([r['val_acc'] for r in noise_free if r['n_qubits'] == q]) for q in qubits]\n",
        "\n",
        "ax.errorbar(qubits, accs, yerr=stds, marker='o', linewidth=2, markersize=8, capsize=5)\n",
        "ax.set_xlabel('Number of Qubits', fontsize=12)\n",
        "ax.set_ylabel('Validation Accuracy', fontsize=12)\n",
        "ax.set_title('Performance Scaling (No Noise)', fontsize=14, fontweight='bold')\n",
        "ax.grid(alpha=0.3)\n",
        "ax.set_ylim([0, 1])\n",
        "\n",
        "# Realistic noise\n",
        "ax = axes[1]\n",
        "realistic = [r for r in all_results if r['noise_level'] == 'realistic']\n",
        "accs = [np.mean([r['val_acc'] for r in realistic if r['n_qubits'] == q]) for q in qubits]\n",
        "stds = [np.std([r['val_acc'] for r in realistic if r['n_qubits'] == q]) for q in qubits]\n",
        "\n",
        "ax.errorbar(qubits, accs, yerr=stds, marker='o', linewidth=2, markersize=8, capsize=5, color='orange')\n",
        "ax.set_xlabel('Number of Qubits', fontsize=12)\n",
        "ax.set_ylabel('Validation Accuracy', fontsize=12)\n",
        "ax.set_title('Performance Scaling (Realistic Noise)', fontsize=14, fontweight='bold')\n",
        "ax.grid(alpha=0.3)\n",
        "ax.set_ylim([0, 1])\n",
        "\n",
        "plt.tight_layout()\n",
        "plt.savefig(config.OUTPUT_DIR / 'scalability_performance.png', dpi=300)\n",
        "plt.show()\n",
        "\n",
        "print(\"✓ Performance plot saved\")"
      ]
    },
    {
      "cell_type": "code",
      "execution_count": 37,
      "metadata": {
        "id": "1nC_OsIgGwQU",
        "colab": {
          "base_uri": "https://localhost:8080/",
          "height": 523
        },
        "outputId": "31597cb3-04c6-4e55-e03d-9792d8766b00"
      },
      "outputs": [
        {
          "output_type": "display_data",
          "data": {
            "text/plain": [
              "<Figure size 1500x500 with 2 Axes>"
            ],
            "image/png": "[encoded data removed]"
          },
          "metadata": {}
        },
        {
          "output_type": "stream",
          "name": "stdout",
          "text": [
            "✓ Complexity plot saved\n"
          ]
        }
      ],
      "source": [
        "# Plot 2: Circuit Complexity\n",
        "fig, axes = plt.subplots(1, 2, figsize=(15, 5))\n",
        "\n",
        "qubits = sorted(set(r['n_qubits'] for r in all_results))\n",
        "gate_counts = [all_results[0]['gate_count'] for r in all_results if r['n_qubits'] == qubits[0]][0]\n",
        "gate_counts_list = []\n",
        "depths_list = []\n",
        "\n",
        "for q in qubits:\n",
        "    matching = [r for r in all_results if r['n_qubits'] == q]\n",
        "    if matching:\n",
        "        gate_counts_list.append(matching[0]['gate_count'])\n",
        "        depths_list.append(matching[0]['circuit_depth'])\n",
        "\n",
        "# Gate count\n",
        "ax = axes[0]\n",
        "ax.bar(qubits, gate_counts_list, color='steelblue', alpha=0.7)\n",
        "ax.set_xlabel('Number of Qubits', fontsize=12)\n",
        "ax.set_ylabel('Gate Count', fontsize=12)\n",
        "ax.set_title('Circuit Gate Count vs Qubits', fontsize=14, fontweight='bold')\n",
        "ax.grid(axis='y', alpha=0.3)\n",
        "\n",
        "# Circuit depth\n",
        "ax = axes[1]\n",
        "ax.bar(qubits, depths_list, color='mediumseagreen', alpha=0.7)\n",
        "ax.set_xlabel('Number of Qubits', fontsize=12)\n",
        "ax.set_ylabel('Circuit Depth', fontsize=12)\n",
        "ax.set_title('Circuit Depth vs Qubits', fontsize=14, fontweight='bold')\n",
        "ax.grid(axis='y', alpha=0.3)\n",
        "\n",
        "plt.tight_layout()\n",
        "plt.savefig(config.OUTPUT_DIR / 'circuit_complexity.png', dpi=300)\n",
        "plt.show()\n",
        "\n",
        "print(\"✓ Complexity plot saved\")"
      ]
    },
    {
      "cell_type": "markdown",
      "metadata": {
        "id": "lSbhsGV6GwQU"
      },
      "source": [
        "## 7. Download Results"
      ]
    },
    {
      "cell_type": "code",
      "execution_count": 38,
      "metadata": {
        "id": "VYiyn0IfGwQV",
        "colab": {
          "base_uri": "https://localhost:8080/",
          "height": 148
        },
        "outputId": "13687233-a529-4e8e-c337-5b95e7879fe7"
      },
      "outputs": [
        {
          "output_type": "stream",
          "name": "stdout",
          "text": [
            "Downloading results...\n"
          ]
        },
        {
          "output_type": "display_data",
          "data": {
            "text/plain": [
              "<IPython.core.display.Javascript object>"
            ],
            "application/javascript": [
              "\n",
              "    async function download(id, filename, size) {\n",
              "      if (!google.colab.kernel.accessAllowed) {\n",
              "        return;\n",
              "      }\n",
              "      const div = document.createElement('div');\n",
              "      const label = document.createElement('label');\n",
              "      label.textContent = `Downloading \"${filename}\": `;\n",
              "      div.appendChild(label);\n",
              "      const progress = document.createElement('progress');\n",
              "      progress.max = size;\n",
              "      div.appendChild(progress);\n",
              "      document.body.appendChild(div);\n",
              "\n",
              "      const buffers = [];\n",
              "      let downloaded = 0;\n",
              "\n",
              "      const channel = await google.colab.kernel.comms.open(id);\n",
              "      // Send a message to notify the kernel that we're ready.\n",
              "      channel.send({})\n",
              "\n",
              "      for await (const message of channel.messages) {\n",
              "        // Send a message to notify the kernel that we're ready.\n",
              "        channel.send({})\n",
              "        if (message.buffers) {\n",
              "          for (const buffer of message.buffers) {\n",
              "            buffers.push(buffer);\n",
              "            downloaded += buffer.byteLength;\n",
              "            progress.value = downloaded;\n",
              "          }\n",
              "        }\n",
              "      }\n",
              "      const blob = new Blob(buffers, {type: 'application/binary'});\n",
              "      const a = document.createElement('a');\n",
              "      a.href = window.URL.createObjectURL(blob);\n",
              "      a.download = filename;\n",
              "      div.appendChild(a);\n",
              "      a.click();\n",
              "      div.remove();\n",
              "    }\n",
              "  "
            ]
          },
          "metadata": {}
        },
        {
          "output_type": "display_data",
          "data": {
            "text/plain": [
              "<IPython.core.display.Javascript object>"
            ],
            "application/javascript": [
              "download(\"download_c0b78b4b-4510-433d-9f72-4ad3134eb8e6\", \"scalability_results.zip\", 178963)"
            ]
          },
          "metadata": {}
        },
        {
          "output_type": "stream",
          "name": "stdout",
          "text": [
            "\n",
            "✓ Download complete!\n",
            "\n",
            "Your results include:\n",
            "  - JSON files with raw data\n",
            "  - PNG plots\n",
            "  - Summary statistics\n"
          ]
        }
      ],
      "source": [
        "from google.colab import files\n",
        "import shutil\n",
        "\n",
        "# Create zip of all results\n",
        "shutil.make_archive('scalability_results', 'zip', config.OUTPUT_DIR)\n",
        "\n",
        "print(\"Downloading results...\")\n",
        "files.download('scalability_results.zip')\n",
        "\n",
        "print(\"\\n✓ Download complete!\")\n",
        "print(\"\\nYour results include:\")\n",
        "print(\"  - JSON files with raw data\")\n",
        "print(\"  - PNG plots\")\n",
        "print(\"  - Summary statistics\")"
      ]
    }
  ],
  "metadata": {
    "accelerator": "GPU",
    "colab": {
      "gpuType": "A100",
      "provenance": []
    },
    "kernelspec": {
      "display_name": "Python 3",
      "name": "python3"
    }
  },
  "nbformat": 4,
  "nbformat_minor": 0
}